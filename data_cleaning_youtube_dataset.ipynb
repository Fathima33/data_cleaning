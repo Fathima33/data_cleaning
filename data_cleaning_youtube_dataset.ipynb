{
 "cells": [
  {
   "cell_type": "code",
   "execution_count": 1,
   "id": "903fbbf0",
   "metadata": {},
   "outputs": [],
   "source": [
    "import pandas as pd\n",
    "import numpy as np"
   ]
  },
  {
   "cell_type": "code",
   "execution_count": 2,
   "id": "07877997",
   "metadata": {},
   "outputs": [],
   "source": [
    "df=pd.read_csv(\"india_dataset.csv\")"
   ]
  },
  {
   "cell_type": "markdown",
   "id": "fc9fac9f",
   "metadata": {},
   "source": [
    "information about the dataset"
   ]
  },
  {
   "cell_type": "code",
   "execution_count": 3,
   "id": "bef024ec",
   "metadata": {},
   "outputs": [
    {
     "name": "stdout",
     "output_type": "stream",
     "text": [
      "<class 'pandas.core.frame.DataFrame'>\n",
      "RangeIndex: 200 entries, 0 to 199\n",
      "Data columns (total 16 columns):\n",
      " #   Column             Non-Null Count  Dtype \n",
      "---  ------             --------------  ----- \n",
      " 0   video_id           200 non-null    object\n",
      " 1   title              200 non-null    object\n",
      " 2   publishedAt        200 non-null    object\n",
      " 3   channelId          200 non-null    object\n",
      " 4   channelTitle       200 non-null    object\n",
      " 5   categoryId         200 non-null    int64 \n",
      " 6   trending_date      200 non-null    object\n",
      " 7   tags               200 non-null    object\n",
      " 8   view_count         200 non-null    int64 \n",
      " 9   likes              200 non-null    int64 \n",
      " 10  dislikes           200 non-null    int64 \n",
      " 11  comment_count      200 non-null    int64 \n",
      " 12  thumbnail_link     200 non-null    object\n",
      " 13  comments_disabled  200 non-null    bool  \n",
      " 14  ratings_disabled   200 non-null    bool  \n",
      " 15  description        197 non-null    object\n",
      "dtypes: bool(2), int64(5), object(9)\n",
      "memory usage: 22.4+ KB\n"
     ]
    }
   ],
   "source": [
    "df.info()"
   ]
  },
  {
   "cell_type": "markdown",
   "id": "1ce2b7eb",
   "metadata": {},
   "source": [
    "Summary statistics about the data"
   ]
  },
  {
   "cell_type": "code",
   "execution_count": 4,
   "id": "252e4bc3",
   "metadata": {},
   "outputs": [
    {
     "data": {
      "text/html": [
       "<div>\n",
       "<style scoped>\n",
       "    .dataframe tbody tr th:only-of-type {\n",
       "        vertical-align: middle;\n",
       "    }\n",
       "\n",
       "    .dataframe tbody tr th {\n",
       "        vertical-align: top;\n",
       "    }\n",
       "\n",
       "    .dataframe thead th {\n",
       "        text-align: right;\n",
       "    }\n",
       "</style>\n",
       "<table border=\"1\" class=\"dataframe\">\n",
       "  <thead>\n",
       "    <tr style=\"text-align: right;\">\n",
       "      <th></th>\n",
       "      <th>count</th>\n",
       "      <th>mean</th>\n",
       "      <th>std</th>\n",
       "      <th>min</th>\n",
       "      <th>25%</th>\n",
       "      <th>50%</th>\n",
       "      <th>75%</th>\n",
       "      <th>max</th>\n",
       "    </tr>\n",
       "  </thead>\n",
       "  <tbody>\n",
       "    <tr>\n",
       "      <th>categoryId</th>\n",
       "      <td>200.0</td>\n",
       "      <td>22.165</td>\n",
       "      <td>6.194322e+00</td>\n",
       "      <td>1.0</td>\n",
       "      <td>23.00</td>\n",
       "      <td>24.0</td>\n",
       "      <td>25.00</td>\n",
       "      <td>43.0</td>\n",
       "    </tr>\n",
       "    <tr>\n",
       "      <th>view_count</th>\n",
       "      <td>200.0</td>\n",
       "      <td>900165.620</td>\n",
       "      <td>2.074336e+06</td>\n",
       "      <td>17385.0</td>\n",
       "      <td>91205.50</td>\n",
       "      <td>300878.5</td>\n",
       "      <td>918713.25</td>\n",
       "      <td>20974681.0</td>\n",
       "    </tr>\n",
       "    <tr>\n",
       "      <th>likes</th>\n",
       "      <td>200.0</td>\n",
       "      <td>22255.265</td>\n",
       "      <td>4.815042e+04</td>\n",
       "      <td>0.0</td>\n",
       "      <td>1216.75</td>\n",
       "      <td>4032.0</td>\n",
       "      <td>18895.50</td>\n",
       "      <td>394751.0</td>\n",
       "    </tr>\n",
       "    <tr>\n",
       "      <th>dislikes</th>\n",
       "      <td>200.0</td>\n",
       "      <td>1299.290</td>\n",
       "      <td>3.357447e+03</td>\n",
       "      <td>0.0</td>\n",
       "      <td>94.00</td>\n",
       "      <td>378.5</td>\n",
       "      <td>919.75</td>\n",
       "      <td>27719.0</td>\n",
       "    </tr>\n",
       "    <tr>\n",
       "      <th>comment_count</th>\n",
       "      <td>200.0</td>\n",
       "      <td>2271.990</td>\n",
       "      <td>5.967078e+03</td>\n",
       "      <td>0.0</td>\n",
       "      <td>128.25</td>\n",
       "      <td>559.0</td>\n",
       "      <td>1858.50</td>\n",
       "      <td>51540.0</td>\n",
       "    </tr>\n",
       "  </tbody>\n",
       "</table>\n",
       "</div>"
      ],
      "text/plain": [
       "               count        mean           std      min       25%       50%  \\\n",
       "categoryId     200.0      22.165  6.194322e+00      1.0     23.00      24.0   \n",
       "view_count     200.0  900165.620  2.074336e+06  17385.0  91205.50  300878.5   \n",
       "likes          200.0   22255.265  4.815042e+04      0.0   1216.75    4032.0   \n",
       "dislikes       200.0    1299.290  3.357447e+03      0.0     94.00     378.5   \n",
       "comment_count  200.0    2271.990  5.967078e+03      0.0    128.25     559.0   \n",
       "\n",
       "                     75%         max  \n",
       "categoryId         25.00        43.0  \n",
       "view_count     918713.25  20974681.0  \n",
       "likes           18895.50    394751.0  \n",
       "dislikes          919.75     27719.0  \n",
       "comment_count    1858.50     51540.0  "
      ]
     },
     "execution_count": 4,
     "metadata": {},
     "output_type": "execute_result"
    }
   ],
   "source": [
    "df.describe().T"
   ]
  },
  {
   "cell_type": "raw",
   "id": "061b63be",
   "metadata": {},
   "source": [
    "OBJECTIVE OF THE DATASET:\n",
    "    "
   ]
  },
  {
   "cell_type": "code",
   "execution_count": 5,
   "id": "fc0f2c67",
   "metadata": {},
   "outputs": [
    {
     "data": {
      "text/plain": [
       "video_id                                                   rxdXLCHtRjs\n",
       "title                Manzoor-e-Khuda Song Teaser | Thugs Of Hindost...\n",
       "publishedAt                                   2018-10-31T06:38:01.000Z\n",
       "channelId                                     UCbTLwN10NoCU4WDzLf1JMOA\n",
       "channelTitle                                                       YRF\n",
       "categoryId                                                          10\n",
       "trending_date                                                 18.01.11\n",
       "tags                 Aamir Khan|Amitabh Bachchan|Katrina Kaif|Fatim...\n",
       "view_count                                                     3341762\n",
       "likes                                                            53961\n",
       "dislikes                                                          5321\n",
       "comment_count                                                     4689\n",
       "thumbnail_link          https://i.ytimg.com/vi/rxdXLCHtRjs/default.jpg\n",
       "comments_disabled                                                False\n",
       "ratings_disabled                                                 False\n",
       "description          Subscribe Now: https://goo.gl/xs3mrY 🔔 Stay up...\n",
       "Name: 0, dtype: object"
      ]
     },
     "execution_count": 5,
     "metadata": {},
     "output_type": "execute_result"
    }
   ],
   "source": [
    "df.loc[0]"
   ]
  },
  {
   "cell_type": "code",
   "execution_count": 6,
   "id": "0bfc4951",
   "metadata": {},
   "outputs": [
    {
     "data": {
      "text/plain": [
       "video_id             object\n",
       "title                object\n",
       "publishedAt          object\n",
       "channelId            object\n",
       "channelTitle         object\n",
       "categoryId            int64\n",
       "trending_date        object\n",
       "tags                 object\n",
       "view_count            int64\n",
       "likes                 int64\n",
       "dislikes              int64\n",
       "comment_count         int64\n",
       "thumbnail_link       object\n",
       "comments_disabled      bool\n",
       "ratings_disabled       bool\n",
       "description          object\n",
       "dtype: object"
      ]
     },
     "execution_count": 6,
     "metadata": {},
     "output_type": "execute_result"
    }
   ],
   "source": [
    "df.dtypes"
   ]
  },
  {
   "cell_type": "markdown",
   "id": "8cb2f7f9",
   "metadata": {},
   "source": [
    "FIXING DATATYPES:\n",
    "              Fixing the datatypes so that the manipulation can be done easier and more manageable"
   ]
  },
  {
   "cell_type": "code",
   "execution_count": 7,
   "id": "0ca04e2d",
   "metadata": {},
   "outputs": [],
   "source": [
    "for i in df.columns:\n",
    "    if df[i].dtype==\"object\":\n",
    "        df[i]=df[i].astype(str)"
   ]
  },
  {
   "cell_type": "code",
   "execution_count": 8,
   "id": "99666223",
   "metadata": {},
   "outputs": [
    {
     "data": {
      "text/plain": [
       "str"
      ]
     },
     "execution_count": 8,
     "metadata": {},
     "output_type": "execute_result"
    }
   ],
   "source": [
    "type(df.video_id[0])"
   ]
  },
  {
   "cell_type": "markdown",
   "id": "942e0162",
   "metadata": {},
   "source": [
    "Generate year,month,date for further analysis in the column trending date"
   ]
  },
  {
   "cell_type": "code",
   "execution_count": 9,
   "id": "835a01e7",
   "metadata": {},
   "outputs": [
    {
     "data": {
      "text/plain": [
       "0      18.01.11\n",
       "1      18.01.11\n",
       "2      18.01.11\n",
       "3      18.01.11\n",
       "4      18.01.11\n",
       "         ...   \n",
       "195    18.01.11\n",
       "196    18.01.11\n",
       "197    18.01.11\n",
       "198    18.01.11\n",
       "199    18.01.11\n",
       "Name: trending_date, Length: 200, dtype: object"
      ]
     },
     "execution_count": 9,
     "metadata": {},
     "output_type": "execute_result"
    }
   ],
   "source": [
    "df[\"trending_date\"]"
   ]
  },
  {
   "cell_type": "raw",
   "id": "b31a5d15",
   "metadata": {},
   "source": [
    "Changing the datatype of trending_date from string datatype to datetime"
   ]
  },
  {
   "cell_type": "code",
   "execution_count": 10,
   "id": "46c6a99a",
   "metadata": {},
   "outputs": [],
   "source": [
    "df[\"trending_date\"]=pd.to_datetime(df[\"trending_date\"])"
   ]
  },
  {
   "cell_type": "code",
   "execution_count": 11,
   "id": "144cca98",
   "metadata": {},
   "outputs": [
    {
     "data": {
      "text/plain": [
       "152   2011-01-18\n",
       "71    2011-01-18\n",
       "90    2011-01-18\n",
       "140   2011-01-18\n",
       "100   2011-01-18\n",
       "Name: trending_date, dtype: datetime64[ns]"
      ]
     },
     "execution_count": 11,
     "metadata": {},
     "output_type": "execute_result"
    }
   ],
   "source": [
    "df[\"trending_date\"].sample(5)"
   ]
  },
  {
   "cell_type": "code",
   "execution_count": 12,
   "id": "78ac184f",
   "metadata": {},
   "outputs": [],
   "source": [
    "df[\"year\"]=df[\"trending_date\"].dt.year\n",
    "df[\"month\"]=df[\"trending_date\"].dt.month\n",
    "df[\"day\"]=df[\"trending_date\"].dt.day"
   ]
  },
  {
   "cell_type": "code",
   "execution_count": 13,
   "id": "a848b717",
   "metadata": {},
   "outputs": [
    {
     "data": {
      "text/html": [
       "<div>\n",
       "<style scoped>\n",
       "    .dataframe tbody tr th:only-of-type {\n",
       "        vertical-align: middle;\n",
       "    }\n",
       "\n",
       "    .dataframe tbody tr th {\n",
       "        vertical-align: top;\n",
       "    }\n",
       "\n",
       "    .dataframe thead th {\n",
       "        text-align: right;\n",
       "    }\n",
       "</style>\n",
       "<table border=\"1\" class=\"dataframe\">\n",
       "  <thead>\n",
       "    <tr style=\"text-align: right;\">\n",
       "      <th></th>\n",
       "      <th>year</th>\n",
       "      <th>month</th>\n",
       "      <th>day</th>\n",
       "    </tr>\n",
       "  </thead>\n",
       "  <tbody>\n",
       "    <tr>\n",
       "      <th>150</th>\n",
       "      <td>2011</td>\n",
       "      <td>1</td>\n",
       "      <td>18</td>\n",
       "    </tr>\n",
       "    <tr>\n",
       "      <th>53</th>\n",
       "      <td>2011</td>\n",
       "      <td>1</td>\n",
       "      <td>18</td>\n",
       "    </tr>\n",
       "    <tr>\n",
       "      <th>60</th>\n",
       "      <td>2011</td>\n",
       "      <td>1</td>\n",
       "      <td>18</td>\n",
       "    </tr>\n",
       "    <tr>\n",
       "      <th>83</th>\n",
       "      <td>2011</td>\n",
       "      <td>1</td>\n",
       "      <td>18</td>\n",
       "    </tr>\n",
       "    <tr>\n",
       "      <th>57</th>\n",
       "      <td>2011</td>\n",
       "      <td>1</td>\n",
       "      <td>18</td>\n",
       "    </tr>\n",
       "  </tbody>\n",
       "</table>\n",
       "</div>"
      ],
      "text/plain": [
       "     year  month  day\n",
       "150  2011      1   18\n",
       "53   2011      1   18\n",
       "60   2011      1   18\n",
       "83   2011      1   18\n",
       "57   2011      1   18"
      ]
     },
     "execution_count": 13,
     "metadata": {},
     "output_type": "execute_result"
    }
   ],
   "source": [
    "df[[\"year\",\"month\",\"day\"]].sample(5)"
   ]
  },
  {
   "cell_type": "raw",
   "id": "84d1a43c",
   "metadata": {},
   "source": [
    "Changing the bool datatype to Category"
   ]
  },
  {
   "cell_type": "code",
   "execution_count": 14,
   "id": "2c84c7c2",
   "metadata": {},
   "outputs": [],
   "source": [
    "for i in df.columns:\n",
    "    if df[i].dtype==\"bool\":\n",
    "        df[i]=df[i].astype(\"category\")"
   ]
  },
  {
   "cell_type": "code",
   "execution_count": 15,
   "id": "a8d3d63a",
   "metadata": {},
   "outputs": [
    {
     "data": {
      "text/plain": [
       "video_id                     object\n",
       "title                        object\n",
       "publishedAt                  object\n",
       "channelId                    object\n",
       "channelTitle                 object\n",
       "categoryId                    int64\n",
       "trending_date        datetime64[ns]\n",
       "tags                         object\n",
       "view_count                    int64\n",
       "likes                         int64\n",
       "dislikes                      int64\n",
       "comment_count                 int64\n",
       "thumbnail_link               object\n",
       "comments_disabled          category\n",
       "ratings_disabled           category\n",
       "description                  object\n",
       "year                          int64\n",
       "month                         int64\n",
       "day                           int64\n",
       "dtype: object"
      ]
     },
     "execution_count": 15,
     "metadata": {},
     "output_type": "execute_result"
    }
   ],
   "source": [
    "df.dtypes"
   ]
  },
  {
   "cell_type": "raw",
   "id": "5d5a3f39",
   "metadata": {},
   "source": [
    "in published at column both time and date are present.Can seperate that into two different columns"
   ]
  },
  {
   "cell_type": "code",
   "execution_count": 16,
   "id": "2164d9fb",
   "metadata": {},
   "outputs": [],
   "source": [
    "df[\"publishedAt\"]=pd.to_datetime(df[\"publishedAt\"])"
   ]
  },
  {
   "cell_type": "code",
   "execution_count": 17,
   "id": "874fa540",
   "metadata": {},
   "outputs": [
    {
     "data": {
      "text/plain": [
       "53    2018-10-30 12:06:14+00:00\n",
       "169   2018-10-30 05:19:58+00:00\n",
       "176   2018-10-30 07:54:13+00:00\n",
       "122   2018-10-26 18:31:51+00:00\n",
       "137   2018-10-27 16:17:58+00:00\n",
       "Name: publishedAt, dtype: datetime64[ns, UTC]"
      ]
     },
     "execution_count": 17,
     "metadata": {},
     "output_type": "execute_result"
    }
   ],
   "source": [
    "df[\"publishedAt\"].sample(5)"
   ]
  },
  {
   "cell_type": "code",
   "execution_count": 18,
   "id": "ce014a53",
   "metadata": {},
   "outputs": [],
   "source": [
    "df[\"published_date\"]=df[\"publishedAt\"].dt.date"
   ]
  },
  {
   "cell_type": "code",
   "execution_count": 19,
   "id": "3dfba77e",
   "metadata": {},
   "outputs": [
    {
     "data": {
      "text/plain": [
       "164    2018-10-29\n",
       "136    2018-10-31\n",
       "176    2018-10-30\n",
       "78     2018-10-30\n",
       "89     2018-10-31\n",
       "Name: published_date, dtype: object"
      ]
     },
     "execution_count": 19,
     "metadata": {},
     "output_type": "execute_result"
    }
   ],
   "source": [
    "df[\"published_date\"].sample(5)"
   ]
  },
  {
   "cell_type": "code",
   "execution_count": 20,
   "id": "8e2e3a7f",
   "metadata": {},
   "outputs": [],
   "source": [
    "df[\"published_time\"]=df[\"publishedAt\"].dt.time"
   ]
  },
  {
   "cell_type": "code",
   "execution_count": 21,
   "id": "cd3b786f",
   "metadata": {},
   "outputs": [
    {
     "data": {
      "text/plain": [
       "100    23:28:29\n",
       "102    10:00:59\n",
       "176    07:54:13\n",
       "145    09:57:17\n",
       "12     14:21:50\n",
       "Name: published_time, dtype: object"
      ]
     },
     "execution_count": 21,
     "metadata": {},
     "output_type": "execute_result"
    }
   ],
   "source": [
    "df[\"published_time\"].sample(5)"
   ]
  },
  {
   "cell_type": "raw",
   "id": "3e637caf",
   "metadata": {},
   "source": [
    "Setting the video_id as index"
   ]
  },
  {
   "cell_type": "raw",
   "id": "4aee1d0c",
   "metadata": {},
   "source": [
    "checking if there are any duplicates in video id column"
   ]
  },
  {
   "cell_type": "code",
   "execution_count": 29,
   "id": "9c7585bc",
   "metadata": {},
   "outputs": [
    {
     "data": {
      "text/plain": [
       "False    200\n",
       "Name: video_id, dtype: int64"
      ]
     },
     "execution_count": 29,
     "metadata": {},
     "output_type": "execute_result"
    }
   ],
   "source": [
    "df[\"video_id\"].duplicated().value_counts()"
   ]
  },
  {
   "cell_type": "code",
   "execution_count": 22,
   "id": "fa43e757",
   "metadata": {},
   "outputs": [],
   "source": [
    "df.set_index(df.video_id,inplace=True)"
   ]
  },
  {
   "cell_type": "code",
   "execution_count": 23,
   "id": "cc0ce5f0",
   "metadata": {},
   "outputs": [
    {
     "data": {
      "text/html": [
       "<div>\n",
       "<style scoped>\n",
       "    .dataframe tbody tr th:only-of-type {\n",
       "        vertical-align: middle;\n",
       "    }\n",
       "\n",
       "    .dataframe tbody tr th {\n",
       "        vertical-align: top;\n",
       "    }\n",
       "\n",
       "    .dataframe thead th {\n",
       "        text-align: right;\n",
       "    }\n",
       "</style>\n",
       "<table border=\"1\" class=\"dataframe\">\n",
       "  <thead>\n",
       "    <tr style=\"text-align: right;\">\n",
       "      <th></th>\n",
       "      <th>video_id</th>\n",
       "      <th>title</th>\n",
       "      <th>publishedAt</th>\n",
       "      <th>channelId</th>\n",
       "      <th>channelTitle</th>\n",
       "      <th>categoryId</th>\n",
       "      <th>trending_date</th>\n",
       "      <th>tags</th>\n",
       "      <th>view_count</th>\n",
       "      <th>likes</th>\n",
       "      <th>...</th>\n",
       "      <th>comment_count</th>\n",
       "      <th>thumbnail_link</th>\n",
       "      <th>comments_disabled</th>\n",
       "      <th>ratings_disabled</th>\n",
       "      <th>description</th>\n",
       "      <th>year</th>\n",
       "      <th>month</th>\n",
       "      <th>day</th>\n",
       "      <th>published_date</th>\n",
       "      <th>published_time</th>\n",
       "    </tr>\n",
       "    <tr>\n",
       "      <th>video_id</th>\n",
       "      <th></th>\n",
       "      <th></th>\n",
       "      <th></th>\n",
       "      <th></th>\n",
       "      <th></th>\n",
       "      <th></th>\n",
       "      <th></th>\n",
       "      <th></th>\n",
       "      <th></th>\n",
       "      <th></th>\n",
       "      <th></th>\n",
       "      <th></th>\n",
       "      <th></th>\n",
       "      <th></th>\n",
       "      <th></th>\n",
       "      <th></th>\n",
       "      <th></th>\n",
       "      <th></th>\n",
       "      <th></th>\n",
       "      <th></th>\n",
       "      <th></th>\n",
       "    </tr>\n",
       "  </thead>\n",
       "  <tbody>\n",
       "    <tr>\n",
       "      <th>slEisss3r_A</th>\n",
       "      <td>slEisss3r_A</td>\n",
       "      <td>7 AM | ETV Telugu News | 31st October 2018</td>\n",
       "      <td>2018-10-31 02:34:11+00:00</td>\n",
       "      <td>UCJi8M0hRKjz8SLPvJKEVTOg</td>\n",
       "      <td>ETV Andhra Pradesh</td>\n",
       "      <td>25</td>\n",
       "      <td>2011-01-18</td>\n",
       "      <td>ETV|ETV Telugu|ETV NewsVideo|National News Vid...</td>\n",
       "      <td>175982</td>\n",
       "      <td>1095</td>\n",
       "      <td>...</td>\n",
       "      <td>111</td>\n",
       "      <td>https://i.ytimg.com/vi/slEisss3r_A/default.jpg</td>\n",
       "      <td>False</td>\n",
       "      <td>False</td>\n",
       "      <td>7 AM | ETV Telugu News | 31st October 2018</td>\n",
       "      <td>2011</td>\n",
       "      <td>1</td>\n",
       "      <td>18</td>\n",
       "      <td>2018-10-31</td>\n",
       "      <td>02:34:11</td>\n",
       "    </tr>\n",
       "    <tr>\n",
       "      <th>yOAGnmNPlAo</th>\n",
       "      <td>yOAGnmNPlAo</td>\n",
       "      <td>Khajur bhai ni moj - ખજૂર મજુર - gujju comedy ...</td>\n",
       "      <td>2018-10-28 04:36:13+00:00</td>\n",
       "      <td>UC-DQKF5d9LLVrRDnDmAkNSA</td>\n",
       "      <td>Khajur Bhai Ni Moj</td>\n",
       "      <td>23</td>\n",
       "      <td>2011-01-18</td>\n",
       "      <td>khajur bhai ni moj|khajur bhai video|gujju com...</td>\n",
       "      <td>602250</td>\n",
       "      <td>8546</td>\n",
       "      <td>...</td>\n",
       "      <td>336</td>\n",
       "      <td>https://i.ytimg.com/vi/yOAGnmNPlAo/default.jpg</td>\n",
       "      <td>False</td>\n",
       "      <td>False</td>\n",
       "      <td>1. Get the app here: http://bit.ly/KhajurDiwal...</td>\n",
       "      <td>2011</td>\n",
       "      <td>1</td>\n",
       "      <td>18</td>\n",
       "      <td>2018-10-28</td>\n",
       "      <td>04:36:13</td>\n",
       "    </tr>\n",
       "    <tr>\n",
       "      <th>QQQkBzHXWD4</th>\n",
       "      <td>QQQkBzHXWD4</td>\n",
       "      <td>Sembaruthi Today Full Episode 30.10.18 Promo R...</td>\n",
       "      <td>2018-10-30 04:26:31+00:00</td>\n",
       "      <td>UCu37EYTCokmDZhxFAQ5prGA</td>\n",
       "      <td>Apple TV</td>\n",
       "      <td>22</td>\n",
       "      <td>2011-01-18</td>\n",
       "      <td>zee Tamil|zee tv|zee tamil tv serials|zee tami...</td>\n",
       "      <td>78224</td>\n",
       "      <td>533</td>\n",
       "      <td>...</td>\n",
       "      <td>95</td>\n",
       "      <td>https://i.ytimg.com/vi/QQQkBzHXWD4/default.jpg</td>\n",
       "      <td>False</td>\n",
       "      <td>False</td>\n",
       "      <td>#sembaruthi#zeetamil#sembaruthiserialCredits -...</td>\n",
       "      <td>2011</td>\n",
       "      <td>1</td>\n",
       "      <td>18</td>\n",
       "      <td>2018-10-30</td>\n",
       "      <td>04:26:31</td>\n",
       "    </tr>\n",
       "    <tr>\n",
       "      <th>JjbEgQ4xwps</th>\n",
       "      <td>JjbEgQ4xwps</td>\n",
       "      <td>Live: IND Vs WI 4th ODI | Live Scores and Comm...</td>\n",
       "      <td>2018-10-29 17:21:11+00:00</td>\n",
       "      <td>UCJrpiw6dS09Zx2Z8d9AFWDA</td>\n",
       "      <td>CricTalks</td>\n",
       "      <td>17</td>\n",
       "      <td>2011-01-18</td>\n",
       "      <td>india score|india match|cricket score|live sco...</td>\n",
       "      <td>1632330</td>\n",
       "      <td>6392</td>\n",
       "      <td>...</td>\n",
       "      <td>26</td>\n",
       "      <td>https://i.ytimg.com/vi/JjbEgQ4xwps/default.jpg</td>\n",
       "      <td>False</td>\n",
       "      <td>False</td>\n",
       "      <td>Live: IND Vs WI 4th ODI | Live Scores and Comm...</td>\n",
       "      <td>2011</td>\n",
       "      <td>1</td>\n",
       "      <td>18</td>\n",
       "      <td>2018-10-29</td>\n",
       "      <td>17:21:11</td>\n",
       "    </tr>\n",
       "    <tr>\n",
       "      <th>uzbnYn6Z2WM</th>\n",
       "      <td>uzbnYn6Z2WM</td>\n",
       "      <td>Statue of Unity: PM Narenda Modi performs 'Ras...</td>\n",
       "      <td>2018-10-31 08:33:54+00:00</td>\n",
       "      <td>UCIvaYmXn910QMdemBG3v1pQ</td>\n",
       "      <td>Zee News</td>\n",
       "      <td>25</td>\n",
       "      <td>2011-01-18</td>\n",
       "      <td>Zee News|Modi|PM Modi|narendra modi|statue of ...</td>\n",
       "      <td>261578</td>\n",
       "      <td>3406</td>\n",
       "      <td>...</td>\n",
       "      <td>459</td>\n",
       "      <td>https://i.ytimg.com/vi/uzbnYn6Z2WM/default.jpg</td>\n",
       "      <td>False</td>\n",
       "      <td>False</td>\n",
       "      <td>Prime Minister Narendra Modi has unveiled the ...</td>\n",
       "      <td>2011</td>\n",
       "      <td>1</td>\n",
       "      <td>18</td>\n",
       "      <td>2018-10-31</td>\n",
       "      <td>08:33:54</td>\n",
       "    </tr>\n",
       "  </tbody>\n",
       "</table>\n",
       "<p>5 rows × 21 columns</p>\n",
       "</div>"
      ],
      "text/plain": [
       "                video_id                                              title  \\\n",
       "video_id                                                                      \n",
       "slEisss3r_A  slEisss3r_A         7 AM | ETV Telugu News | 31st October 2018   \n",
       "yOAGnmNPlAo  yOAGnmNPlAo  Khajur bhai ni moj - ખજૂર મજુર - gujju comedy ...   \n",
       "QQQkBzHXWD4  QQQkBzHXWD4  Sembaruthi Today Full Episode 30.10.18 Promo R...   \n",
       "JjbEgQ4xwps  JjbEgQ4xwps  Live: IND Vs WI 4th ODI | Live Scores and Comm...   \n",
       "uzbnYn6Z2WM  uzbnYn6Z2WM  Statue of Unity: PM Narenda Modi performs 'Ras...   \n",
       "\n",
       "                          publishedAt                 channelId  \\\n",
       "video_id                                                          \n",
       "slEisss3r_A 2018-10-31 02:34:11+00:00  UCJi8M0hRKjz8SLPvJKEVTOg   \n",
       "yOAGnmNPlAo 2018-10-28 04:36:13+00:00  UC-DQKF5d9LLVrRDnDmAkNSA   \n",
       "QQQkBzHXWD4 2018-10-30 04:26:31+00:00  UCu37EYTCokmDZhxFAQ5prGA   \n",
       "JjbEgQ4xwps 2018-10-29 17:21:11+00:00  UCJrpiw6dS09Zx2Z8d9AFWDA   \n",
       "uzbnYn6Z2WM 2018-10-31 08:33:54+00:00  UCIvaYmXn910QMdemBG3v1pQ   \n",
       "\n",
       "                   channelTitle  categoryId trending_date  \\\n",
       "video_id                                                    \n",
       "slEisss3r_A  ETV Andhra Pradesh          25    2011-01-18   \n",
       "yOAGnmNPlAo  Khajur Bhai Ni Moj          23    2011-01-18   \n",
       "QQQkBzHXWD4            Apple TV          22    2011-01-18   \n",
       "JjbEgQ4xwps           CricTalks          17    2011-01-18   \n",
       "uzbnYn6Z2WM            Zee News          25    2011-01-18   \n",
       "\n",
       "                                                          tags  view_count  \\\n",
       "video_id                                                                     \n",
       "slEisss3r_A  ETV|ETV Telugu|ETV NewsVideo|National News Vid...      175982   \n",
       "yOAGnmNPlAo  khajur bhai ni moj|khajur bhai video|gujju com...      602250   \n",
       "QQQkBzHXWD4  zee Tamil|zee tv|zee tamil tv serials|zee tami...       78224   \n",
       "JjbEgQ4xwps  india score|india match|cricket score|live sco...     1632330   \n",
       "uzbnYn6Z2WM  Zee News|Modi|PM Modi|narendra modi|statue of ...      261578   \n",
       "\n",
       "             likes  ...  comment_count  \\\n",
       "video_id            ...                  \n",
       "slEisss3r_A   1095  ...            111   \n",
       "yOAGnmNPlAo   8546  ...            336   \n",
       "QQQkBzHXWD4    533  ...             95   \n",
       "JjbEgQ4xwps   6392  ...             26   \n",
       "uzbnYn6Z2WM   3406  ...            459   \n",
       "\n",
       "                                             thumbnail_link comments_disabled  \\\n",
       "video_id                                                                        \n",
       "slEisss3r_A  https://i.ytimg.com/vi/slEisss3r_A/default.jpg             False   \n",
       "yOAGnmNPlAo  https://i.ytimg.com/vi/yOAGnmNPlAo/default.jpg             False   \n",
       "QQQkBzHXWD4  https://i.ytimg.com/vi/QQQkBzHXWD4/default.jpg             False   \n",
       "JjbEgQ4xwps  https://i.ytimg.com/vi/JjbEgQ4xwps/default.jpg             False   \n",
       "uzbnYn6Z2WM  https://i.ytimg.com/vi/uzbnYn6Z2WM/default.jpg             False   \n",
       "\n",
       "            ratings_disabled  \\\n",
       "video_id                       \n",
       "slEisss3r_A            False   \n",
       "yOAGnmNPlAo            False   \n",
       "QQQkBzHXWD4            False   \n",
       "JjbEgQ4xwps            False   \n",
       "uzbnYn6Z2WM            False   \n",
       "\n",
       "                                                   description  year  month  \\\n",
       "video_id                                                                      \n",
       "slEisss3r_A         7 AM | ETV Telugu News | 31st October 2018  2011      1   \n",
       "yOAGnmNPlAo  1. Get the app here: http://bit.ly/KhajurDiwal...  2011      1   \n",
       "QQQkBzHXWD4  #sembaruthi#zeetamil#sembaruthiserialCredits -...  2011      1   \n",
       "JjbEgQ4xwps  Live: IND Vs WI 4th ODI | Live Scores and Comm...  2011      1   \n",
       "uzbnYn6Z2WM  Prime Minister Narendra Modi has unveiled the ...  2011      1   \n",
       "\n",
       "             day  published_date published_time  \n",
       "video_id                                         \n",
       "slEisss3r_A   18      2018-10-31       02:34:11  \n",
       "yOAGnmNPlAo   18      2018-10-28       04:36:13  \n",
       "QQQkBzHXWD4   18      2018-10-30       04:26:31  \n",
       "JjbEgQ4xwps   18      2018-10-29       17:21:11  \n",
       "uzbnYn6Z2WM   18      2018-10-31       08:33:54  \n",
       "\n",
       "[5 rows x 21 columns]"
      ]
     },
     "execution_count": 23,
     "metadata": {},
     "output_type": "execute_result"
    }
   ],
   "source": [
    "df.sample(5)"
   ]
  },
  {
   "cell_type": "markdown",
   "id": "d2eb143a",
   "metadata": {},
   "source": [
    "EXAMINING MISSING VALUES:"
   ]
  },
  {
   "cell_type": "code",
   "execution_count": 30,
   "id": "ddd87b06",
   "metadata": {},
   "outputs": [
    {
     "data": {
      "text/html": [
       "<div>\n",
       "<style scoped>\n",
       "    .dataframe tbody tr th:only-of-type {\n",
       "        vertical-align: middle;\n",
       "    }\n",
       "\n",
       "    .dataframe tbody tr th {\n",
       "        vertical-align: top;\n",
       "    }\n",
       "\n",
       "    .dataframe thead th {\n",
       "        text-align: right;\n",
       "    }\n",
       "</style>\n",
       "<table border=\"1\" class=\"dataframe\">\n",
       "  <thead>\n",
       "    <tr style=\"text-align: right;\">\n",
       "      <th></th>\n",
       "      <th>0</th>\n",
       "    </tr>\n",
       "  </thead>\n",
       "  <tbody>\n",
       "    <tr>\n",
       "      <th>video_id</th>\n",
       "      <td>0</td>\n",
       "    </tr>\n",
       "    <tr>\n",
       "      <th>title</th>\n",
       "      <td>0</td>\n",
       "    </tr>\n",
       "    <tr>\n",
       "      <th>publishedAt</th>\n",
       "      <td>0</td>\n",
       "    </tr>\n",
       "    <tr>\n",
       "      <th>channelId</th>\n",
       "      <td>0</td>\n",
       "    </tr>\n",
       "    <tr>\n",
       "      <th>channelTitle</th>\n",
       "      <td>0</td>\n",
       "    </tr>\n",
       "    <tr>\n",
       "      <th>categoryId</th>\n",
       "      <td>0</td>\n",
       "    </tr>\n",
       "    <tr>\n",
       "      <th>trending_date</th>\n",
       "      <td>0</td>\n",
       "    </tr>\n",
       "    <tr>\n",
       "      <th>tags</th>\n",
       "      <td>0</td>\n",
       "    </tr>\n",
       "    <tr>\n",
       "      <th>view_count</th>\n",
       "      <td>0</td>\n",
       "    </tr>\n",
       "    <tr>\n",
       "      <th>likes</th>\n",
       "      <td>0</td>\n",
       "    </tr>\n",
       "    <tr>\n",
       "      <th>dislikes</th>\n",
       "      <td>0</td>\n",
       "    </tr>\n",
       "    <tr>\n",
       "      <th>comment_count</th>\n",
       "      <td>0</td>\n",
       "    </tr>\n",
       "    <tr>\n",
       "      <th>thumbnail_link</th>\n",
       "      <td>0</td>\n",
       "    </tr>\n",
       "    <tr>\n",
       "      <th>comments_disabled</th>\n",
       "      <td>0</td>\n",
       "    </tr>\n",
       "    <tr>\n",
       "      <th>ratings_disabled</th>\n",
       "      <td>0</td>\n",
       "    </tr>\n",
       "    <tr>\n",
       "      <th>description</th>\n",
       "      <td>0</td>\n",
       "    </tr>\n",
       "    <tr>\n",
       "      <th>year</th>\n",
       "      <td>0</td>\n",
       "    </tr>\n",
       "    <tr>\n",
       "      <th>month</th>\n",
       "      <td>0</td>\n",
       "    </tr>\n",
       "    <tr>\n",
       "      <th>day</th>\n",
       "      <td>0</td>\n",
       "    </tr>\n",
       "    <tr>\n",
       "      <th>published_date</th>\n",
       "      <td>0</td>\n",
       "    </tr>\n",
       "    <tr>\n",
       "      <th>published_time</th>\n",
       "      <td>0</td>\n",
       "    </tr>\n",
       "  </tbody>\n",
       "</table>\n",
       "</div>"
      ],
      "text/plain": [
       "                   0\n",
       "video_id           0\n",
       "title              0\n",
       "publishedAt        0\n",
       "channelId          0\n",
       "channelTitle       0\n",
       "categoryId         0\n",
       "trending_date      0\n",
       "tags               0\n",
       "view_count         0\n",
       "likes              0\n",
       "dislikes           0\n",
       "comment_count      0\n",
       "thumbnail_link     0\n",
       "comments_disabled  0\n",
       "ratings_disabled   0\n",
       "description        0\n",
       "year               0\n",
       "month              0\n",
       "day                0\n",
       "published_date     0\n",
       "published_time     0"
      ]
     },
     "execution_count": 30,
     "metadata": {},
     "output_type": "execute_result"
    }
   ],
   "source": [
    "df.isnull().sum().to_frame()"
   ]
  },
  {
   "cell_type": "raw",
   "id": "8d01fca3",
   "metadata": {},
   "source": [
    "Conclusion :There are no missing values"
   ]
  },
  {
   "cell_type": "raw",
   "id": "496396dd",
   "metadata": {},
   "source": [
    "In either way we can analyze by using heatmap also"
   ]
  },
  {
   "cell_type": "code",
   "execution_count": 33,
   "id": "908d3bb4",
   "metadata": {},
   "outputs": [
    {
     "data": {
      "text/plain": [
       "<AxesSubplot:ylabel='video_id'>"
      ]
     },
     "execution_count": 33,
     "metadata": {},
     "output_type": "execute_result"
    },
    {
     "data": {
      "image/png": "[encoded data removed]",
      "text/plain": [
       "<Figure size 640x480 with 1 Axes>"
      ]
     },
     "metadata": {},
     "output_type": "display_data"
    }
   ],
   "source": [
    "import seaborn  as sns\n",
    "sns.heatmap(df.isnull(),cbar=False)"
   ]
  },
  {
   "cell_type": "raw",
   "id": "29ef060b",
   "metadata": {},
   "source": [
    "Conclusion:no missing data"
   ]
  },
  {
   "cell_type": "code",
   "execution_count": null,
   "id": "c5719f86",
   "metadata": {},
   "outputs": [],
   "source": []
  }
 ],
 "metadata": {
  "kernelspec": {
   "display_name": "Python 3 (ipykernel)",
   "language": "python",
   "name": "python3"
  },
  "language_info": {
   "codemirror_mode": {
    "name": "ipython",
    "version": 3
   },
   "file_extension": ".py",
   "mimetype": "text/x-python",
   "name": "python",
   "nbconvert_exporter": "python",
   "pygments_lexer": "ipython3",
   "version": "3.9.13"
  }
 },
 "nbformat": 4,
 "nbformat_minor": 5
}
