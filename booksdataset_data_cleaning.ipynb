{
  "nbformat": 4,
  "nbformat_minor": 0,
  "metadata": {
    "colab": {
      "provenance": []
    },
    "kernelspec": {
      "name": "python3",
      "display_name": "Python 3"
    },
    "language_info": {
      "name": "python"
    }
  },
  "cells": [
    {
      "cell_type": "code",
      "source": [
        "from google.colab import drive\n",
        "drive.mount('/content/drive')"
      ],
      "metadata": {
        "colab": {
          "base_uri": "https://localhost:8080/"
        },
        "id": "RyuUTVbcVA7o",
        "outputId": "bbf27c61-74ad-4f4a-db63-cf0c801b1579"
      },
      "execution_count": 44,
      "outputs": [
        {
          "output_type": "stream",
          "name": "stdout",
          "text": [
            "Drive already mounted at /content/drive; to attempt to forcibly remount, call drive.mount(\"/content/drive\", force_remount=True).\n"
          ]
        }
      ]
    },
    {
      "cell_type": "markdown",
      "source": [
        "import the necessary libraries"
      ],
      "metadata": {
        "id": "VkPP7ZuQVOcY"
      }
    },
    {
      "cell_type": "code",
      "source": [
        "import pandas as pd\n",
        "import numpy as np"
      ],
      "metadata": {
        "id": "gdRxh6aEVHK4"
      },
      "execution_count": 45,
      "outputs": []
    },
    {
      "cell_type": "markdown",
      "source": [
        "load the dataset"
      ],
      "metadata": {
        "id": "QGGXKnO2Vvz_"
      }
    },
    {
      "cell_type": "code",
      "source": [
        "df=pd.read_csv(\"/content/drive/MyDrive/csv files/excel_files/audible_uncleaned.csv\")"
      ],
      "metadata": {
        "id": "GAzNDpRXVfL4"
      },
      "execution_count": 46,
      "outputs": []
    },
    {
      "cell_type": "markdown",
      "source": [
        "variable description\n",
        "1. \"name\" - The name of the audiobook.\n",
        "2. \"author\" - The audiobook's author.\n",
        "3. \"narrator\" - The audiobook's narrator.\n",
        "4. \"time\" - The audiobook's duration, in hours and minutes.\n",
        "5. \"releasedate\" - The date the audiobook was published.\n",
        "6. \"language\" - The audiobook's language.\n",
        "7. \"stars\" - The average number of stars (out of 5) and the  number of ratings (if available).\n",
        "9. \"price\" - The audiobook's price in INR (Indian Rupee)."
      ],
      "metadata": {
        "id": "UEQw_pSxXB5Z"
      }
    },
    {
      "cell_type": "code",
      "source": [
        "df.loc[0]"
      ],
      "metadata": {
        "colab": {
          "base_uri": "https://localhost:8080/"
        },
        "id": "kcG_MdXGVvES",
        "outputId": "eb11ed75-15b8-45e0-f15d-0a5f6e205278"
      },
      "execution_count": 47,
      "outputs": [
        {
          "output_type": "execute_result",
          "data": {
            "text/plain": [
              "name           Geronimo Stilton #11 & #12\n",
              "author          Writtenby:GeronimoStilton\n",
              "narrator            Narratedby:BillLobely\n",
              "time                    2 hrs and 20 mins\n",
              "releasedate                      04-08-08\n",
              "language                          English\n",
              "stars          5 out of 5 stars34 ratings\n",
              "price                              468.00\n",
              "Name: 0, dtype: object"
            ]
          },
          "metadata": {},
          "execution_count": 47
        }
      ]
    },
    {
      "cell_type": "code",
      "source": [
        "df.info()"
      ],
      "metadata": {
        "colab": {
          "base_uri": "https://localhost:8080/"
        },
        "id": "gPW9_kDDV6hm",
        "outputId": "bb2fb605-56cb-4cf0-8193-2630dc759df4"
      },
      "execution_count": 48,
      "outputs": [
        {
          "output_type": "stream",
          "name": "stdout",
          "text": [
            "<class 'pandas.core.frame.DataFrame'>\n",
            "RangeIndex: 87489 entries, 0 to 87488\n",
            "Data columns (total 8 columns):\n",
            " #   Column       Non-Null Count  Dtype \n",
            "---  ------       --------------  ----- \n",
            " 0   name         87489 non-null  object\n",
            " 1   author       87489 non-null  object\n",
            " 2   narrator     87489 non-null  object\n",
            " 3   time         87489 non-null  object\n",
            " 4   releasedate  87489 non-null  object\n",
            " 5   language     87489 non-null  object\n",
            " 6   stars        87489 non-null  object\n",
            " 7   price        87489 non-null  object\n",
            "dtypes: object(8)\n",
            "memory usage: 5.3+ MB\n"
          ]
        }
      ]
    },
    {
      "cell_type": "code",
      "source": [
        "df.describe()"
      ],
      "metadata": {
        "colab": {
          "base_uri": "https://localhost:8080/",
          "height": 175
        },
        "id": "ez6Ggg1pX499",
        "outputId": "5a09d02f-8001-4ac8-e46e-be31fcdf9859"
      },
      "execution_count": 49,
      "outputs": [
        {
          "output_type": "execute_result",
          "data": {
            "text/plain": [
              "                  name              author              narrator    time  \\\n",
              "count            87489               87489                 87489   87489   \n",
              "unique           82767               48374                 29717    2284   \n",
              "top     The Art of War  Writtenby:矢島雅弘,石橋遊  Narratedby:anonymous  2 mins   \n",
              "freq                20                 874                  1034     372   \n",
              "\n",
              "       releasedate language          stars   price  \n",
              "count        87489    87489          87489   87489  \n",
              "unique        5058       36            665    1011  \n",
              "top       16-05-18  English  Not rated yet  586.00  \n",
              "freq           773    61884          72417    5533  "
            ],
            "text/html": [
              "\n",
              "  <div id=\"df-e9f1caac-58f3-40a0-ad2a-622afd5c2d5e\" class=\"colab-df-container\">\n",
              "    <div>\n",
              "<style scoped>\n",
              "    .dataframe tbody tr th:only-of-type {\n",
              "        vertical-align: middle;\n",
              "    }\n",
              "\n",
              "    .dataframe tbody tr th {\n",
              "        vertical-align: top;\n",
              "    }\n",
              "\n",
              "    .dataframe thead th {\n",
              "        text-align: right;\n",
              "    }\n",
              "</style>\n",
              "<table border=\"1\" class=\"dataframe\">\n",
              "  <thead>\n",
              "    <tr style=\"text-align: right;\">\n",
              "      <th></th>\n",
              "      <th>name</th>\n",
              "      <th>author</th>\n",
              "      <th>narrator</th>\n",
              "      <th>time</th>\n",
              "      <th>releasedate</th>\n",
              "      <th>language</th>\n",
              "      <th>stars</th>\n",
              "      <th>price</th>\n",
              "    </tr>\n",
              "  </thead>\n",
              "  <tbody>\n",
              "    <tr>\n",
              "      <th>count</th>\n",
              "      <td>87489</td>\n",
              "      <td>87489</td>\n",
              "      <td>87489</td>\n",
              "      <td>87489</td>\n",
              "      <td>87489</td>\n",
              "      <td>87489</td>\n",
              "      <td>87489</td>\n",
              "      <td>87489</td>\n",
              "    </tr>\n",
              "    <tr>\n",
              "      <th>unique</th>\n",
              "      <td>82767</td>\n",
              "      <td>48374</td>\n",
              "      <td>29717</td>\n",
              "      <td>2284</td>\n",
              "      <td>5058</td>\n",
              "      <td>36</td>\n",
              "      <td>665</td>\n",
              "      <td>1011</td>\n",
              "    </tr>\n",
              "    <tr>\n",
              "      <th>top</th>\n",
              "      <td>The Art of War</td>\n",
              "      <td>Writtenby:矢島雅弘,石橋遊</td>\n",
              "      <td>Narratedby:anonymous</td>\n",
              "      <td>2 mins</td>\n",
              "      <td>16-05-18</td>\n",
              "      <td>English</td>\n",
              "      <td>Not rated yet</td>\n",
              "      <td>586.00</td>\n",
              "    </tr>\n",
              "    <tr>\n",
              "      <th>freq</th>\n",
              "      <td>20</td>\n",
              "      <td>874</td>\n",
              "      <td>1034</td>\n",
              "      <td>372</td>\n",
              "      <td>773</td>\n",
              "      <td>61884</td>\n",
              "      <td>72417</td>\n",
              "      <td>5533</td>\n",
              "    </tr>\n",
              "  </tbody>\n",
              "</table>\n",
              "</div>\n",
              "    <div class=\"colab-df-buttons\">\n",
              "\n",
              "  <div class=\"colab-df-container\">\n",
              "    <button class=\"colab-df-convert\" onclick=\"convertToInteractive('df-e9f1caac-58f3-40a0-ad2a-622afd5c2d5e')\"\n",
              "            title=\"Convert this dataframe to an interactive table.\"\n",
              "            style=\"display:none;\">\n",
              "\n",
              "  <svg xmlns=\"http://www.w3.org/2000/svg\" height=\"24px\" viewBox=\"0 -960 960 960\">\n",
              "    <path d=\"M120-120v-720h720v720H120Zm60-500h600v-160H180v160Zm220 220h160v-160H400v160Zm0 220h160v-160H400v160ZM180-400h160v-160H180v160Zm440 0h160v-160H620v160ZM180-180h160v-160H180v160Zm440 0h160v-160H620v160Z\"/>\n",
              "  </svg>\n",
              "    </button>\n",
              "\n",
              "  <style>\n",
              "    .colab-df-container {\n",
              "      display:flex;\n",
              "      gap: 12px;\n",
              "    }\n",
              "\n",
              "    .colab-df-convert {\n",
              "      background-color: #E8F0FE;\n",
              "      border: none;\n",
              "      border-radius: 50%;\n",
              "      cursor: pointer;\n",
              "      display: none;\n",
              "      fill: #1967D2;\n",
              "      height: 32px;\n",
              "      padding: 0 0 0 0;\n",
              "      width: 32px;\n",
              "    }\n",
              "\n",
              "    .colab-df-convert:hover {\n",
              "      background-color: #E2EBFA;\n",
              "      box-shadow: 0px 1px 2px rgba(60, 64, 67, 0.3), 0px 1px 3px 1px rgba(60, 64, 67, 0.15);\n",
              "      fill: #174EA6;\n",
              "    }\n",
              "\n",
              "    .colab-df-buttons div {\n",
              "      margin-bottom: 4px;\n",
              "    }\n",
              "\n",
              "    [theme=dark] .colab-df-convert {\n",
              "      background-color: #3B4455;\n",
              "      fill: #D2E3FC;\n",
              "    }\n",
              "\n",
              "    [theme=dark] .colab-df-convert:hover {\n",
              "      background-color: #434B5C;\n",
              "      box-shadow: 0px 1px 3px 1px rgba(0, 0, 0, 0.15);\n",
              "      filter: drop-shadow(0px 1px 2px rgba(0, 0, 0, 0.3));\n",
              "      fill: #FFFFFF;\n",
              "    }\n",
              "  </style>\n",
              "\n",
              "    <script>\n",
              "      const buttonEl =\n",
              "        document.querySelector('#df-e9f1caac-58f3-40a0-ad2a-622afd5c2d5e button.colab-df-convert');\n",
              "      buttonEl.style.display =\n",
              "        google.colab.kernel.accessAllowed ? 'block' : 'none';\n",
              "\n",
              "      async function convertToInteractive(key) {\n",
              "        const element = document.querySelector('#df-e9f1caac-58f3-40a0-ad2a-622afd5c2d5e');\n",
              "        const dataTable =\n",
              "          await google.colab.kernel.invokeFunction('convertToInteractive',\n",
              "                                                    [key], {});\n",
              "        if (!dataTable) return;\n",
              "\n",
              "        const docLinkHtml = 'Like what you see? Visit the ' +\n",
              "          '<a target=\"_blank\" href=https://colab.research.google.com/notebooks/data_table.ipynb>data table notebook</a>'\n",
              "          + ' to learn more about interactive tables.';\n",
              "        element.innerHTML = '';\n",
              "        dataTable['output_type'] = 'display_data';\n",
              "        await google.colab.output.renderOutput(dataTable, element);\n",
              "        const docLink = document.createElement('div');\n",
              "        docLink.innerHTML = docLinkHtml;\n",
              "        element.appendChild(docLink);\n",
              "      }\n",
              "    </script>\n",
              "  </div>\n",
              "\n",
              "\n",
              "<div id=\"df-30aa2b7f-43f7-4f35-b15a-c973a16229ee\">\n",
              "  <button class=\"colab-df-quickchart\" onclick=\"quickchart('df-30aa2b7f-43f7-4f35-b15a-c973a16229ee')\"\n",
              "            title=\"Suggest charts.\"\n",
              "            style=\"display:none;\">\n",
              "\n",
              "<svg xmlns=\"http://www.w3.org/2000/svg\" height=\"24px\"viewBox=\"0 0 24 24\"\n",
              "     width=\"24px\">\n",
              "    <g>\n",
              "        <path d=\"M19 3H5c-1.1 0-2 .9-2 2v14c0 1.1.9 2 2 2h14c1.1 0 2-.9 2-2V5c0-1.1-.9-2-2-2zM9 17H7v-7h2v7zm4 0h-2V7h2v10zm4 0h-2v-4h2v4z\"/>\n",
              "    </g>\n",
              "</svg>\n",
              "  </button>\n",
              "\n",
              "<style>\n",
              "  .colab-df-quickchart {\n",
              "    background-color: #E8F0FE;\n",
              "    border: none;\n",
              "    border-radius: 50%;\n",
              "    cursor: pointer;\n",
              "    display: none;\n",
              "    fill: #1967D2;\n",
              "    height: 32px;\n",
              "    padding: 0 0 0 0;\n",
              "    width: 32px;\n",
              "  }\n",
              "\n",
              "  .colab-df-quickchart:hover {\n",
              "    background-color: #E2EBFA;\n",
              "    box-shadow: 0px 1px 2px rgba(60, 64, 67, 0.3), 0px 1px 3px 1px rgba(60, 64, 67, 0.15);\n",
              "    fill: #174EA6;\n",
              "  }\n",
              "\n",
              "  [theme=dark] .colab-df-quickchart {\n",
              "    background-color: #3B4455;\n",
              "    fill: #D2E3FC;\n",
              "  }\n",
              "\n",
              "  [theme=dark] .colab-df-quickchart:hover {\n",
              "    background-color: #434B5C;\n",
              "    box-shadow: 0px 1px 3px 1px rgba(0, 0, 0, 0.15);\n",
              "    filter: drop-shadow(0px 1px 2px rgba(0, 0, 0, 0.3));\n",
              "    fill: #FFFFFF;\n",
              "  }\n",
              "</style>\n",
              "\n",
              "  <script>\n",
              "    async function quickchart(key) {\n",
              "      const charts = await google.colab.kernel.invokeFunction(\n",
              "          'suggestCharts', [key], {});\n",
              "    }\n",
              "    (() => {\n",
              "      let quickchartButtonEl =\n",
              "        document.querySelector('#df-30aa2b7f-43f7-4f35-b15a-c973a16229ee button');\n",
              "      quickchartButtonEl.style.display =\n",
              "        google.colab.kernel.accessAllowed ? 'block' : 'none';\n",
              "    })();\n",
              "  </script>\n",
              "</div>\n",
              "    </div>\n",
              "  </div>\n"
            ]
          },
          "metadata": {},
          "execution_count": 49
        }
      ]
    },
    {
      "cell_type": "code",
      "source": [
        "df.info()"
      ],
      "metadata": {
        "colab": {
          "base_uri": "https://localhost:8080/"
        },
        "id": "lJHyd8XkX637",
        "outputId": "9d14f435-6caf-407b-8dad-f330af6af1f0"
      },
      "execution_count": 50,
      "outputs": [
        {
          "output_type": "stream",
          "name": "stdout",
          "text": [
            "<class 'pandas.core.frame.DataFrame'>\n",
            "RangeIndex: 87489 entries, 0 to 87488\n",
            "Data columns (total 8 columns):\n",
            " #   Column       Non-Null Count  Dtype \n",
            "---  ------       --------------  ----- \n",
            " 0   name         87489 non-null  object\n",
            " 1   author       87489 non-null  object\n",
            " 2   narrator     87489 non-null  object\n",
            " 3   time         87489 non-null  object\n",
            " 4   releasedate  87489 non-null  object\n",
            " 5   language     87489 non-null  object\n",
            " 6   stars        87489 non-null  object\n",
            " 7   price        87489 non-null  object\n",
            "dtypes: object(8)\n",
            "memory usage: 5.3+ MB\n"
          ]
        }
      ]
    },
    {
      "cell_type": "code",
      "source": [
        "df.isnull().sum().to_frame()"
      ],
      "metadata": {
        "colab": {
          "base_uri": "https://localhost:8080/",
          "height": 300
        },
        "id": "uLW1v0d3YHe8",
        "outputId": "f4a37549-f0b1-4776-d734-8c53c6d67e74"
      },
      "execution_count": 51,
      "outputs": [
        {
          "output_type": "execute_result",
          "data": {
            "text/plain": [
              "             0\n",
              "name         0\n",
              "author       0\n",
              "narrator     0\n",
              "time         0\n",
              "releasedate  0\n",
              "language     0\n",
              "stars        0\n",
              "price        0"
            ],
            "text/html": [
              "\n",
              "  <div id=\"df-03115b87-5c9d-43d4-b9e7-36b49260884a\" class=\"colab-df-container\">\n",
              "    <div>\n",
              "<style scoped>\n",
              "    .dataframe tbody tr th:only-of-type {\n",
              "        vertical-align: middle;\n",
              "    }\n",
              "\n",
              "    .dataframe tbody tr th {\n",
              "        vertical-align: top;\n",
              "    }\n",
              "\n",
              "    .dataframe thead th {\n",
              "        text-align: right;\n",
              "    }\n",
              "</style>\n",
              "<table border=\"1\" class=\"dataframe\">\n",
              "  <thead>\n",
              "    <tr style=\"text-align: right;\">\n",
              "      <th></th>\n",
              "      <th>0</th>\n",
              "    </tr>\n",
              "  </thead>\n",
              "  <tbody>\n",
              "    <tr>\n",
              "      <th>name</th>\n",
              "      <td>0</td>\n",
              "    </tr>\n",
              "    <tr>\n",
              "      <th>author</th>\n",
              "      <td>0</td>\n",
              "    </tr>\n",
              "    <tr>\n",
              "      <th>narrator</th>\n",
              "      <td>0</td>\n",
              "    </tr>\n",
              "    <tr>\n",
              "      <th>time</th>\n",
              "      <td>0</td>\n",
              "    </tr>\n",
              "    <tr>\n",
              "      <th>releasedate</th>\n",
              "      <td>0</td>\n",
              "    </tr>\n",
              "    <tr>\n",
              "      <th>language</th>\n",
              "      <td>0</td>\n",
              "    </tr>\n",
              "    <tr>\n",
              "      <th>stars</th>\n",
              "      <td>0</td>\n",
              "    </tr>\n",
              "    <tr>\n",
              "      <th>price</th>\n",
              "      <td>0</td>\n",
              "    </tr>\n",
              "  </tbody>\n",
              "</table>\n",
              "</div>\n",
              "    <div class=\"colab-df-buttons\">\n",
              "\n",
              "  <div class=\"colab-df-container\">\n",
              "    <button class=\"colab-df-convert\" onclick=\"convertToInteractive('df-03115b87-5c9d-43d4-b9e7-36b49260884a')\"\n",
              "            title=\"Convert this dataframe to an interactive table.\"\n",
              "            style=\"display:none;\">\n",
              "\n",
              "  <svg xmlns=\"http://www.w3.org/2000/svg\" height=\"24px\" viewBox=\"0 -960 960 960\">\n",
              "    <path d=\"M120-120v-720h720v720H120Zm60-500h600v-160H180v160Zm220 220h160v-160H400v160Zm0 220h160v-160H400v160ZM180-400h160v-160H180v160Zm440 0h160v-160H620v160ZM180-180h160v-160H180v160Zm440 0h160v-160H620v160Z\"/>\n",
              "  </svg>\n",
              "    </button>\n",
              "\n",
              "  <style>\n",
              "    .colab-df-container {\n",
              "      display:flex;\n",
              "      gap: 12px;\n",
              "    }\n",
              "\n",
              "    .colab-df-convert {\n",
              "      background-color: #E8F0FE;\n",
              "      border: none;\n",
              "      border-radius: 50%;\n",
              "      cursor: pointer;\n",
              "      display: none;\n",
              "      fill: #1967D2;\n",
              "      height: 32px;\n",
              "      padding: 0 0 0 0;\n",
              "      width: 32px;\n",
              "    }\n",
              "\n",
              "    .colab-df-convert:hover {\n",
              "      background-color: #E2EBFA;\n",
              "      box-shadow: 0px 1px 2px rgba(60, 64, 67, 0.3), 0px 1px 3px 1px rgba(60, 64, 67, 0.15);\n",
              "      fill: #174EA6;\n",
              "    }\n",
              "\n",
              "    .colab-df-buttons div {\n",
              "      margin-bottom: 4px;\n",
              "    }\n",
              "\n",
              "    [theme=dark] .colab-df-convert {\n",
              "      background-color: #3B4455;\n",
              "      fill: #D2E3FC;\n",
              "    }\n",
              "\n",
              "    [theme=dark] .colab-df-convert:hover {\n",
              "      background-color: #434B5C;\n",
              "      box-shadow: 0px 1px 3px 1px rgba(0, 0, 0, 0.15);\n",
              "      filter: drop-shadow(0px 1px 2px rgba(0, 0, 0, 0.3));\n",
              "      fill: #FFFFFF;\n",
              "    }\n",
              "  </style>\n",
              "\n",
              "    <script>\n",
              "      const buttonEl =\n",
              "        document.querySelector('#df-03115b87-5c9d-43d4-b9e7-36b49260884a button.colab-df-convert');\n",
              "      buttonEl.style.display =\n",
              "        google.colab.kernel.accessAllowed ? 'block' : 'none';\n",
              "\n",
              "      async function convertToInteractive(key) {\n",
              "        const element = document.querySelector('#df-03115b87-5c9d-43d4-b9e7-36b49260884a');\n",
              "        const dataTable =\n",
              "          await google.colab.kernel.invokeFunction('convertToInteractive',\n",
              "                                                    [key], {});\n",
              "        if (!dataTable) return;\n",
              "\n",
              "        const docLinkHtml = 'Like what you see? Visit the ' +\n",
              "          '<a target=\"_blank\" href=https://colab.research.google.com/notebooks/data_table.ipynb>data table notebook</a>'\n",
              "          + ' to learn more about interactive tables.';\n",
              "        element.innerHTML = '';\n",
              "        dataTable['output_type'] = 'display_data';\n",
              "        await google.colab.output.renderOutput(dataTable, element);\n",
              "        const docLink = document.createElement('div');\n",
              "        docLink.innerHTML = docLinkHtml;\n",
              "        element.appendChild(docLink);\n",
              "      }\n",
              "    </script>\n",
              "  </div>\n",
              "\n",
              "\n",
              "<div id=\"df-7d8e4652-81bd-4cec-adbc-f72f42009383\">\n",
              "  <button class=\"colab-df-quickchart\" onclick=\"quickchart('df-7d8e4652-81bd-4cec-adbc-f72f42009383')\"\n",
              "            title=\"Suggest charts.\"\n",
              "            style=\"display:none;\">\n",
              "\n",
              "<svg xmlns=\"http://www.w3.org/2000/svg\" height=\"24px\"viewBox=\"0 0 24 24\"\n",
              "     width=\"24px\">\n",
              "    <g>\n",
              "        <path d=\"M19 3H5c-1.1 0-2 .9-2 2v14c0 1.1.9 2 2 2h14c1.1 0 2-.9 2-2V5c0-1.1-.9-2-2-2zM9 17H7v-7h2v7zm4 0h-2V7h2v10zm4 0h-2v-4h2v4z\"/>\n",
              "    </g>\n",
              "</svg>\n",
              "  </button>\n",
              "\n",
              "<style>\n",
              "  .colab-df-quickchart {\n",
              "    background-color: #E8F0FE;\n",
              "    border: none;\n",
              "    border-radius: 50%;\n",
              "    cursor: pointer;\n",
              "    display: none;\n",
              "    fill: #1967D2;\n",
              "    height: 32px;\n",
              "    padding: 0 0 0 0;\n",
              "    width: 32px;\n",
              "  }\n",
              "\n",
              "  .colab-df-quickchart:hover {\n",
              "    background-color: #E2EBFA;\n",
              "    box-shadow: 0px 1px 2px rgba(60, 64, 67, 0.3), 0px 1px 3px 1px rgba(60, 64, 67, 0.15);\n",
              "    fill: #174EA6;\n",
              "  }\n",
              "\n",
              "  [theme=dark] .colab-df-quickchart {\n",
              "    background-color: #3B4455;\n",
              "    fill: #D2E3FC;\n",
              "  }\n",
              "\n",
              "  [theme=dark] .colab-df-quickchart:hover {\n",
              "    background-color: #434B5C;\n",
              "    box-shadow: 0px 1px 3px 1px rgba(0, 0, 0, 0.15);\n",
              "    filter: drop-shadow(0px 1px 2px rgba(0, 0, 0, 0.3));\n",
              "    fill: #FFFFFF;\n",
              "  }\n",
              "</style>\n",
              "\n",
              "  <script>\n",
              "    async function quickchart(key) {\n",
              "      const charts = await google.colab.kernel.invokeFunction(\n",
              "          'suggestCharts', [key], {});\n",
              "    }\n",
              "    (() => {\n",
              "      let quickchartButtonEl =\n",
              "        document.querySelector('#df-7d8e4652-81bd-4cec-adbc-f72f42009383 button');\n",
              "      quickchartButtonEl.style.display =\n",
              "        google.colab.kernel.accessAllowed ? 'block' : 'none';\n",
              "    })();\n",
              "  </script>\n",
              "</div>\n",
              "    </div>\n",
              "  </div>\n"
            ]
          },
          "metadata": {},
          "execution_count": 51
        }
      ]
    },
    {
      "cell_type": "markdown",
      "source": [
        "Cleaning the author and narrator column"
      ],
      "metadata": {
        "id": "bRuvhwXDYeSu"
      }
    },
    {
      "cell_type": "code",
      "source": [
        "df[[\"author\",\"narrator\"]]"
      ],
      "metadata": {
        "colab": {
          "base_uri": "https://localhost:8080/",
          "height": 424
        },
        "id": "LEC5ydQ2YN7U",
        "outputId": "4732e272-92cb-4f99-eb21-faf1df60183c"
      },
      "execution_count": 52,
      "outputs": [
        {
          "output_type": "execute_result",
          "data": {
            "text/plain": [
              "                          author                   narrator\n",
              "0      Writtenby:GeronimoStilton      Narratedby:BillLobely\n",
              "1          Writtenby:RickRiordan   Narratedby:RobbieDaymond\n",
              "2           Writtenby:JeffKinney      Narratedby:DanRussell\n",
              "3          Writtenby:RickRiordan  Narratedby:SoneelaNankani\n",
              "4          Writtenby:RickRiordan  Narratedby:JesseBernstein\n",
              "...                          ...                        ...\n",
              "87484     Writtenby:ChrisStewart    Narratedby:ChrisStewart\n",
              "87485    Writtenby:StephenO'Shea      Narratedby:RobertFass\n",
              "87486        Writtenby:MarkTwain       Narratedby:FloGibson\n",
              "87487   Writtenby:LaurenceSterne     Narratedby:AntonLesser\n",
              "87488    Writtenby:MarkKurlansky     Narratedby:FleetCooper\n",
              "\n",
              "[87489 rows x 2 columns]"
            ],
            "text/html": [
              "\n",
              "  <div id=\"df-5c68c431-38ca-42d0-8240-8e7112bee58b\" class=\"colab-df-container\">\n",
              "    <div>\n",
              "<style scoped>\n",
              "    .dataframe tbody tr th:only-of-type {\n",
              "        vertical-align: middle;\n",
              "    }\n",
              "\n",
              "    .dataframe tbody tr th {\n",
              "        vertical-align: top;\n",
              "    }\n",
              "\n",
              "    .dataframe thead th {\n",
              "        text-align: right;\n",
              "    }\n",
              "</style>\n",
              "<table border=\"1\" class=\"dataframe\">\n",
              "  <thead>\n",
              "    <tr style=\"text-align: right;\">\n",
              "      <th></th>\n",
              "      <th>author</th>\n",
              "      <th>narrator</th>\n",
              "    </tr>\n",
              "  </thead>\n",
              "  <tbody>\n",
              "    <tr>\n",
              "      <th>0</th>\n",
              "      <td>Writtenby:GeronimoStilton</td>\n",
              "      <td>Narratedby:BillLobely</td>\n",
              "    </tr>\n",
              "    <tr>\n",
              "      <th>1</th>\n",
              "      <td>Writtenby:RickRiordan</td>\n",
              "      <td>Narratedby:RobbieDaymond</td>\n",
              "    </tr>\n",
              "    <tr>\n",
              "      <th>2</th>\n",
              "      <td>Writtenby:JeffKinney</td>\n",
              "      <td>Narratedby:DanRussell</td>\n",
              "    </tr>\n",
              "    <tr>\n",
              "      <th>3</th>\n",
              "      <td>Writtenby:RickRiordan</td>\n",
              "      <td>Narratedby:SoneelaNankani</td>\n",
              "    </tr>\n",
              "    <tr>\n",
              "      <th>4</th>\n",
              "      <td>Writtenby:RickRiordan</td>\n",
              "      <td>Narratedby:JesseBernstein</td>\n",
              "    </tr>\n",
              "    <tr>\n",
              "      <th>...</th>\n",
              "      <td>...</td>\n",
              "      <td>...</td>\n",
              "    </tr>\n",
              "    <tr>\n",
              "      <th>87484</th>\n",
              "      <td>Writtenby:ChrisStewart</td>\n",
              "      <td>Narratedby:ChrisStewart</td>\n",
              "    </tr>\n",
              "    <tr>\n",
              "      <th>87485</th>\n",
              "      <td>Writtenby:StephenO'Shea</td>\n",
              "      <td>Narratedby:RobertFass</td>\n",
              "    </tr>\n",
              "    <tr>\n",
              "      <th>87486</th>\n",
              "      <td>Writtenby:MarkTwain</td>\n",
              "      <td>Narratedby:FloGibson</td>\n",
              "    </tr>\n",
              "    <tr>\n",
              "      <th>87487</th>\n",
              "      <td>Writtenby:LaurenceSterne</td>\n",
              "      <td>Narratedby:AntonLesser</td>\n",
              "    </tr>\n",
              "    <tr>\n",
              "      <th>87488</th>\n",
              "      <td>Writtenby:MarkKurlansky</td>\n",
              "      <td>Narratedby:FleetCooper</td>\n",
              "    </tr>\n",
              "  </tbody>\n",
              "</table>\n",
              "<p>87489 rows × 2 columns</p>\n",
              "</div>\n",
              "    <div class=\"colab-df-buttons\">\n",
              "\n",
              "  <div class=\"colab-df-container\">\n",
              "    <button class=\"colab-df-convert\" onclick=\"convertToInteractive('df-5c68c431-38ca-42d0-8240-8e7112bee58b')\"\n",
              "            title=\"Convert this dataframe to an interactive table.\"\n",
              "            style=\"display:none;\">\n",
              "\n",
              "  <svg xmlns=\"http://www.w3.org/2000/svg\" height=\"24px\" viewBox=\"0 -960 960 960\">\n",
              "    <path d=\"M120-120v-720h720v720H120Zm60-500h600v-160H180v160Zm220 220h160v-160H400v160Zm0 220h160v-160H400v160ZM180-400h160v-160H180v160Zm440 0h160v-160H620v160ZM180-180h160v-160H180v160Zm440 0h160v-160H620v160Z\"/>\n",
              "  </svg>\n",
              "    </button>\n",
              "\n",
              "  <style>\n",
              "    .colab-df-container {\n",
              "      display:flex;\n",
              "      gap: 12px;\n",
              "    }\n",
              "\n",
              "    .colab-df-convert {\n",
              "      background-color: #E8F0FE;\n",
              "      border: none;\n",
              "      border-radius: 50%;\n",
              "      cursor: pointer;\n",
              "      display: none;\n",
              "      fill: #1967D2;\n",
              "      height: 32px;\n",
              "      padding: 0 0 0 0;\n",
              "      width: 32px;\n",
              "    }\n",
              "\n",
              "    .colab-df-convert:hover {\n",
              "      background-color: #E2EBFA;\n",
              "      box-shadow: 0px 1px 2px rgba(60, 64, 67, 0.3), 0px 1px 3px 1px rgba(60, 64, 67, 0.15);\n",
              "      fill: #174EA6;\n",
              "    }\n",
              "\n",
              "    .colab-df-buttons div {\n",
              "      margin-bottom: 4px;\n",
              "    }\n",
              "\n",
              "    [theme=dark] .colab-df-convert {\n",
              "      background-color: #3B4455;\n",
              "      fill: #D2E3FC;\n",
              "    }\n",
              "\n",
              "    [theme=dark] .colab-df-convert:hover {\n",
              "      background-color: #434B5C;\n",
              "      box-shadow: 0px 1px 3px 1px rgba(0, 0, 0, 0.15);\n",
              "      filter: drop-shadow(0px 1px 2px rgba(0, 0, 0, 0.3));\n",
              "      fill: #FFFFFF;\n",
              "    }\n",
              "  </style>\n",
              "\n",
              "    <script>\n",
              "      const buttonEl =\n",
              "        document.querySelector('#df-5c68c431-38ca-42d0-8240-8e7112bee58b button.colab-df-convert');\n",
              "      buttonEl.style.display =\n",
              "        google.colab.kernel.accessAllowed ? 'block' : 'none';\n",
              "\n",
              "      async function convertToInteractive(key) {\n",
              "        const element = document.querySelector('#df-5c68c431-38ca-42d0-8240-8e7112bee58b');\n",
              "        const dataTable =\n",
              "          await google.colab.kernel.invokeFunction('convertToInteractive',\n",
              "                                                    [key], {});\n",
              "        if (!dataTable) return;\n",
              "\n",
              "        const docLinkHtml = 'Like what you see? Visit the ' +\n",
              "          '<a target=\"_blank\" href=https://colab.research.google.com/notebooks/data_table.ipynb>data table notebook</a>'\n",
              "          + ' to learn more about interactive tables.';\n",
              "        element.innerHTML = '';\n",
              "        dataTable['output_type'] = 'display_data';\n",
              "        await google.colab.output.renderOutput(dataTable, element);\n",
              "        const docLink = document.createElement('div');\n",
              "        docLink.innerHTML = docLinkHtml;\n",
              "        element.appendChild(docLink);\n",
              "      }\n",
              "    </script>\n",
              "  </div>\n",
              "\n",
              "\n",
              "<div id=\"df-32df2fb5-7361-43a7-9d61-101e3844f651\">\n",
              "  <button class=\"colab-df-quickchart\" onclick=\"quickchart('df-32df2fb5-7361-43a7-9d61-101e3844f651')\"\n",
              "            title=\"Suggest charts.\"\n",
              "            style=\"display:none;\">\n",
              "\n",
              "<svg xmlns=\"http://www.w3.org/2000/svg\" height=\"24px\"viewBox=\"0 0 24 24\"\n",
              "     width=\"24px\">\n",
              "    <g>\n",
              "        <path d=\"M19 3H5c-1.1 0-2 .9-2 2v14c0 1.1.9 2 2 2h14c1.1 0 2-.9 2-2V5c0-1.1-.9-2-2-2zM9 17H7v-7h2v7zm4 0h-2V7h2v10zm4 0h-2v-4h2v4z\"/>\n",
              "    </g>\n",
              "</svg>\n",
              "  </button>\n",
              "\n",
              "<style>\n",
              "  .colab-df-quickchart {\n",
              "    background-color: #E8F0FE;\n",
              "    border: none;\n",
              "    border-radius: 50%;\n",
              "    cursor: pointer;\n",
              "    display: none;\n",
              "    fill: #1967D2;\n",
              "    height: 32px;\n",
              "    padding: 0 0 0 0;\n",
              "    width: 32px;\n",
              "  }\n",
              "\n",
              "  .colab-df-quickchart:hover {\n",
              "    background-color: #E2EBFA;\n",
              "    box-shadow: 0px 1px 2px rgba(60, 64, 67, 0.3), 0px 1px 3px 1px rgba(60, 64, 67, 0.15);\n",
              "    fill: #174EA6;\n",
              "  }\n",
              "\n",
              "  [theme=dark] .colab-df-quickchart {\n",
              "    background-color: #3B4455;\n",
              "    fill: #D2E3FC;\n",
              "  }\n",
              "\n",
              "  [theme=dark] .colab-df-quickchart:hover {\n",
              "    background-color: #434B5C;\n",
              "    box-shadow: 0px 1px 3px 1px rgba(0, 0, 0, 0.15);\n",
              "    filter: drop-shadow(0px 1px 2px rgba(0, 0, 0, 0.3));\n",
              "    fill: #FFFFFF;\n",
              "  }\n",
              "</style>\n",
              "\n",
              "  <script>\n",
              "    async function quickchart(key) {\n",
              "      const charts = await google.colab.kernel.invokeFunction(\n",
              "          'suggestCharts', [key], {});\n",
              "    }\n",
              "    (() => {\n",
              "      let quickchartButtonEl =\n",
              "        document.querySelector('#df-32df2fb5-7361-43a7-9d61-101e3844f651 button');\n",
              "      quickchartButtonEl.style.display =\n",
              "        google.colab.kernel.accessAllowed ? 'block' : 'none';\n",
              "    })();\n",
              "  </script>\n",
              "</div>\n",
              "    </div>\n",
              "  </div>\n"
            ]
          },
          "metadata": {},
          "execution_count": 52
        }
      ]
    },
    {
      "cell_type": "code",
      "source": [
        "df[\"author\"]=df[\"author\"].str.replace(\"Writtenby:\",\"\")\n",
        "df[\"narrator\"]=df[\"narrator\"].str.replace(\"Narratedby:\",\"\")"
      ],
      "metadata": {
        "id": "PapkqqVaYqDn"
      },
      "execution_count": 53,
      "outputs": []
    },
    {
      "cell_type": "code",
      "source": [
        "df.sample(3)"
      ],
      "metadata": {
        "colab": {
          "base_uri": "https://localhost:8080/",
          "height": 143
        },
        "id": "Rzd5buTSZp-z",
        "outputId": "b6acdde9-1f1b-4851-9746-443fb66ec208"
      },
      "execution_count": 54,
      "outputs": [
        {
          "output_type": "execute_result",
          "data": {
            "text/plain": [
              "                                            name          author  \\\n",
              "29834                               Think Better       TimHurson   \n",
              "50315                Mistletoe at Moonstone Lake     HollyMartin   \n",
              "25127  Gino Bartali. Una bici contro il fascismo  AlbertoToscano   \n",
              "\n",
              "                narrator               time releasedate language  \\\n",
              "29834  ChristopherPrince  6 hrs and 28 mins    20-07-21  English   \n",
              "50315       PennyAndrews  6 hrs and 12 mins    04-11-21  English   \n",
              "25127     MarcoCavalcoli  5 hrs and 18 mins    22-10-19  italian   \n",
              "\n",
              "               stars   price  \n",
              "29834  Not rated yet  586.00  \n",
              "50315  Not rated yet  539.00  \n",
              "25127  Not rated yet  267.00  "
            ],
            "text/html": [
              "\n",
              "  <div id=\"df-13d92296-16a5-46f1-bae2-64134607bcd7\" class=\"colab-df-container\">\n",
              "    <div>\n",
              "<style scoped>\n",
              "    .dataframe tbody tr th:only-of-type {\n",
              "        vertical-align: middle;\n",
              "    }\n",
              "\n",
              "    .dataframe tbody tr th {\n",
              "        vertical-align: top;\n",
              "    }\n",
              "\n",
              "    .dataframe thead th {\n",
              "        text-align: right;\n",
              "    }\n",
              "</style>\n",
              "<table border=\"1\" class=\"dataframe\">\n",
              "  <thead>\n",
              "    <tr style=\"text-align: right;\">\n",
              "      <th></th>\n",
              "      <th>name</th>\n",
              "      <th>author</th>\n",
              "      <th>narrator</th>\n",
              "      <th>time</th>\n",
              "      <th>releasedate</th>\n",
              "      <th>language</th>\n",
              "      <th>stars</th>\n",
              "      <th>price</th>\n",
              "    </tr>\n",
              "  </thead>\n",
              "  <tbody>\n",
              "    <tr>\n",
              "      <th>29834</th>\n",
              "      <td>Think Better</td>\n",
              "      <td>TimHurson</td>\n",
              "      <td>ChristopherPrince</td>\n",
              "      <td>6 hrs and 28 mins</td>\n",
              "      <td>20-07-21</td>\n",
              "      <td>English</td>\n",
              "      <td>Not rated yet</td>\n",
              "      <td>586.00</td>\n",
              "    </tr>\n",
              "    <tr>\n",
              "      <th>50315</th>\n",
              "      <td>Mistletoe at Moonstone Lake</td>\n",
              "      <td>HollyMartin</td>\n",
              "      <td>PennyAndrews</td>\n",
              "      <td>6 hrs and 12 mins</td>\n",
              "      <td>04-11-21</td>\n",
              "      <td>English</td>\n",
              "      <td>Not rated yet</td>\n",
              "      <td>539.00</td>\n",
              "    </tr>\n",
              "    <tr>\n",
              "      <th>25127</th>\n",
              "      <td>Gino Bartali. Una bici contro il fascismo</td>\n",
              "      <td>AlbertoToscano</td>\n",
              "      <td>MarcoCavalcoli</td>\n",
              "      <td>5 hrs and 18 mins</td>\n",
              "      <td>22-10-19</td>\n",
              "      <td>italian</td>\n",
              "      <td>Not rated yet</td>\n",
              "      <td>267.00</td>\n",
              "    </tr>\n",
              "  </tbody>\n",
              "</table>\n",
              "</div>\n",
              "    <div class=\"colab-df-buttons\">\n",
              "\n",
              "  <div class=\"colab-df-container\">\n",
              "    <button class=\"colab-df-convert\" onclick=\"convertToInteractive('df-13d92296-16a5-46f1-bae2-64134607bcd7')\"\n",
              "            title=\"Convert this dataframe to an interactive table.\"\n",
              "            style=\"display:none;\">\n",
              "\n",
              "  <svg xmlns=\"http://www.w3.org/2000/svg\" height=\"24px\" viewBox=\"0 -960 960 960\">\n",
              "    <path d=\"M120-120v-720h720v720H120Zm60-500h600v-160H180v160Zm220 220h160v-160H400v160Zm0 220h160v-160H400v160ZM180-400h160v-160H180v160Zm440 0h160v-160H620v160ZM180-180h160v-160H180v160Zm440 0h160v-160H620v160Z\"/>\n",
              "  </svg>\n",
              "    </button>\n",
              "\n",
              "  <style>\n",
              "    .colab-df-container {\n",
              "      display:flex;\n",
              "      gap: 12px;\n",
              "    }\n",
              "\n",
              "    .colab-df-convert {\n",
              "      background-color: #E8F0FE;\n",
              "      border: none;\n",
              "      border-radius: 50%;\n",
              "      cursor: pointer;\n",
              "      display: none;\n",
              "      fill: #1967D2;\n",
              "      height: 32px;\n",
              "      padding: 0 0 0 0;\n",
              "      width: 32px;\n",
              "    }\n",
              "\n",
              "    .colab-df-convert:hover {\n",
              "      background-color: #E2EBFA;\n",
              "      box-shadow: 0px 1px 2px rgba(60, 64, 67, 0.3), 0px 1px 3px 1px rgba(60, 64, 67, 0.15);\n",
              "      fill: #174EA6;\n",
              "    }\n",
              "\n",
              "    .colab-df-buttons div {\n",
              "      margin-bottom: 4px;\n",
              "    }\n",
              "\n",
              "    [theme=dark] .colab-df-convert {\n",
              "      background-color: #3B4455;\n",
              "      fill: #D2E3FC;\n",
              "    }\n",
              "\n",
              "    [theme=dark] .colab-df-convert:hover {\n",
              "      background-color: #434B5C;\n",
              "      box-shadow: 0px 1px 3px 1px rgba(0, 0, 0, 0.15);\n",
              "      filter: drop-shadow(0px 1px 2px rgba(0, 0, 0, 0.3));\n",
              "      fill: #FFFFFF;\n",
              "    }\n",
              "  </style>\n",
              "\n",
              "    <script>\n",
              "      const buttonEl =\n",
              "        document.querySelector('#df-13d92296-16a5-46f1-bae2-64134607bcd7 button.colab-df-convert');\n",
              "      buttonEl.style.display =\n",
              "        google.colab.kernel.accessAllowed ? 'block' : 'none';\n",
              "\n",
              "      async function convertToInteractive(key) {\n",
              "        const element = document.querySelector('#df-13d92296-16a5-46f1-bae2-64134607bcd7');\n",
              "        const dataTable =\n",
              "          await google.colab.kernel.invokeFunction('convertToInteractive',\n",
              "                                                    [key], {});\n",
              "        if (!dataTable) return;\n",
              "\n",
              "        const docLinkHtml = 'Like what you see? Visit the ' +\n",
              "          '<a target=\"_blank\" href=https://colab.research.google.com/notebooks/data_table.ipynb>data table notebook</a>'\n",
              "          + ' to learn more about interactive tables.';\n",
              "        element.innerHTML = '';\n",
              "        dataTable['output_type'] = 'display_data';\n",
              "        await google.colab.output.renderOutput(dataTable, element);\n",
              "        const docLink = document.createElement('div');\n",
              "        docLink.innerHTML = docLinkHtml;\n",
              "        element.appendChild(docLink);\n",
              "      }\n",
              "    </script>\n",
              "  </div>\n",
              "\n",
              "\n",
              "<div id=\"df-5a0d88fb-037b-47f0-9e12-caf52f87f64f\">\n",
              "  <button class=\"colab-df-quickchart\" onclick=\"quickchart('df-5a0d88fb-037b-47f0-9e12-caf52f87f64f')\"\n",
              "            title=\"Suggest charts.\"\n",
              "            style=\"display:none;\">\n",
              "\n",
              "<svg xmlns=\"http://www.w3.org/2000/svg\" height=\"24px\"viewBox=\"0 0 24 24\"\n",
              "     width=\"24px\">\n",
              "    <g>\n",
              "        <path d=\"M19 3H5c-1.1 0-2 .9-2 2v14c0 1.1.9 2 2 2h14c1.1 0 2-.9 2-2V5c0-1.1-.9-2-2-2zM9 17H7v-7h2v7zm4 0h-2V7h2v10zm4 0h-2v-4h2v4z\"/>\n",
              "    </g>\n",
              "</svg>\n",
              "  </button>\n",
              "\n",
              "<style>\n",
              "  .colab-df-quickchart {\n",
              "    background-color: #E8F0FE;\n",
              "    border: none;\n",
              "    border-radius: 50%;\n",
              "    cursor: pointer;\n",
              "    display: none;\n",
              "    fill: #1967D2;\n",
              "    height: 32px;\n",
              "    padding: 0 0 0 0;\n",
              "    width: 32px;\n",
              "  }\n",
              "\n",
              "  .colab-df-quickchart:hover {\n",
              "    background-color: #E2EBFA;\n",
              "    box-shadow: 0px 1px 2px rgba(60, 64, 67, 0.3), 0px 1px 3px 1px rgba(60, 64, 67, 0.15);\n",
              "    fill: #174EA6;\n",
              "  }\n",
              "\n",
              "  [theme=dark] .colab-df-quickchart {\n",
              "    background-color: #3B4455;\n",
              "    fill: #D2E3FC;\n",
              "  }\n",
              "\n",
              "  [theme=dark] .colab-df-quickchart:hover {\n",
              "    background-color: #434B5C;\n",
              "    box-shadow: 0px 1px 3px 1px rgba(0, 0, 0, 0.15);\n",
              "    filter: drop-shadow(0px 1px 2px rgba(0, 0, 0, 0.3));\n",
              "    fill: #FFFFFF;\n",
              "  }\n",
              "</style>\n",
              "\n",
              "  <script>\n",
              "    async function quickchart(key) {\n",
              "      const charts = await google.colab.kernel.invokeFunction(\n",
              "          'suggestCharts', [key], {});\n",
              "    }\n",
              "    (() => {\n",
              "      let quickchartButtonEl =\n",
              "        document.querySelector('#df-5a0d88fb-037b-47f0-9e12-caf52f87f64f button');\n",
              "      quickchartButtonEl.style.display =\n",
              "        google.colab.kernel.accessAllowed ? 'block' : 'none';\n",
              "    })();\n",
              "  </script>\n",
              "</div>\n",
              "    </div>\n",
              "  </div>\n"
            ]
          },
          "metadata": {},
          "execution_count": 54
        }
      ]
    },
    {
      "cell_type": "markdown",
      "source": [
        "splitting the stars column to the number of stars and number of rating"
      ],
      "metadata": {
        "id": "RH889srec7Pz"
      }
    },
    {
      "cell_type": "code",
      "source": [
        "def clean_stars(x):\n",
        "  if x==\"Not rated yet\":\n",
        "    return np.NaN\n",
        "  else:\n",
        "    return float(x.split()[0])\n",
        "def clean_ratings(x):\n",
        "    if x==\"Not rated yet\":\n",
        "        return np.NaN\n",
        "    else:\n",
        "         return float(x.split(\"stars\")[1][0:2].strip(\", \"))\n",
        "\n",
        "df[\"no_stars\"]=df[\"stars\"].apply(lambda x:clean_stars(x))\n",
        "df[\"no_ratings\"]=df[\"stars\"].apply(lambda x:clean_ratings(x))\n"
      ],
      "metadata": {
        "id": "3YGvOoNzZsVv"
      },
      "execution_count": 55,
      "outputs": []
    },
    {
      "cell_type": "code",
      "source": [
        "df.shape"
      ],
      "metadata": {
        "colab": {
          "base_uri": "https://localhost:8080/"
        },
        "id": "re0mMYvekpZ7",
        "outputId": "3fcffd04-daa5-443f-ee0b-d0c20785befc"
      },
      "execution_count": 56,
      "outputs": [
        {
          "output_type": "execute_result",
          "data": {
            "text/plain": [
              "(87489, 10)"
            ]
          },
          "metadata": {},
          "execution_count": 56
        }
      ]
    },
    {
      "cell_type": "markdown",
      "source": [
        "Changing the datatypes of columns:\n",
        "1. price to float\n",
        "\n",
        "2. `rating_stars` to category\n",
        "3.  `releasedate` to datetime\n",
        "\n"
      ],
      "metadata": {
        "id": "AJjBWfqCpGhf"
      }
    },
    {
      "cell_type": "code",
      "source": [
        "df['price']=df['price'].str.replace(',','')\n",
        "def pricing(price):\n",
        "  if price==\"Free\":\n",
        "    return 0.00\n",
        "  else:\n",
        "    return float(price)\n",
        "df['price']=df['price'].apply(lambda x: pricing(x))\n"
      ],
      "metadata": {
        "id": "RLpApuvxpS9H"
      },
      "execution_count": 57,
      "outputs": []
    },
    {
      "cell_type": "code",
      "source": [
        "df['price'].dtype"
      ],
      "metadata": {
        "id": "39sDyJnLwz4_",
        "colab": {
          "base_uri": "https://localhost:8080/"
        },
        "outputId": "28cdf626-9215-463b-f643-ff4d92ec09c9"
      },
      "execution_count": 58,
      "outputs": [
        {
          "output_type": "execute_result",
          "data": {
            "text/plain": [
              "dtype('float64')"
            ]
          },
          "metadata": {},
          "execution_count": 58
        }
      ]
    },
    {
      "cell_type": "code",
      "source": [
        "df[\"no_stars\"]=df[\"no_stars\"].fillna(0)"
      ],
      "metadata": {
        "id": "fvLkIjW7nhCV"
      },
      "execution_count": 59,
      "outputs": []
    },
    {
      "cell_type": "code",
      "source": [
        "df[\"no_stars\"]=df[\"no_stars\"].astype(\"category\")"
      ],
      "metadata": {
        "id": "kJjW8ggLwp13"
      },
      "execution_count": 60,
      "outputs": []
    },
    {
      "cell_type": "code",
      "source": [
        "df['no_stars'].dtype"
      ],
      "metadata": {
        "colab": {
          "base_uri": "https://localhost:8080/"
        },
        "id": "2pcTGQ-IZ8Ka",
        "outputId": "d9ead79f-f104-4d46-81d6-18f7038790b1"
      },
      "execution_count": 61,
      "outputs": [
        {
          "output_type": "execute_result",
          "data": {
            "text/plain": [
              "CategoricalDtype(categories=[0.0, 1.0, 1.5, 2.0, 2.5, 3.0, 3.5, 4.0, 4.5, 5.0], ordered=False)"
            ]
          },
          "metadata": {},
          "execution_count": 61
        }
      ]
    },
    {
      "cell_type": "code",
      "source": [
        "df['releasedate']=pd.to_datetime(df['releasedate'])"
      ],
      "metadata": {
        "id": "zXQcknFvaBCW"
      },
      "execution_count": 62,
      "outputs": []
    },
    {
      "cell_type": "code",
      "source": [
        "df[\"releasedate\"].dtype"
      ],
      "metadata": {
        "colab": {
          "base_uri": "https://localhost:8080/"
        },
        "id": "ndb315Ikar4X",
        "outputId": "ff76b49c-b1b7-43a3-ca21-b84f22868149"
      },
      "execution_count": 63,
      "outputs": [
        {
          "output_type": "execute_result",
          "data": {
            "text/plain": [
              "dtype('<M8[ns]')"
            ]
          },
          "metadata": {},
          "execution_count": 63
        }
      ]
    },
    {
      "cell_type": "markdown",
      "source": [
        "Extract hours and minutes from the time column\n",
        "\n",
        "\n",
        "1. Ihr, hrs -> consolidate as hr\n",
        "2.  min, mins -> consolidate as min\n",
        "3. Less than 1 minute -> round to 1 min\n",
        "\n",
        "\n",
        "\n"
      ],
      "metadata": {
        "id": "EGCV1e2mbQFH"
      }
    },
    {
      "cell_type": "code",
      "source": [
        "df[df[\"time\"]==\"Less than 1 minute\"]"
      ],
      "metadata": {
        "colab": {
          "base_uri": "https://localhost:8080/",
          "height": 597
        },
        "id": "od7t8SzEeZEz",
        "outputId": "45e87c74-090e-4214-fd28-2de5d83cfd3f"
      },
      "execution_count": 64,
      "outputs": [
        {
          "output_type": "execute_result",
          "data": {
            "text/plain": [
              "                                        name             author  \\\n",
              "1401                  The Story of Ice Cream  StacyTaus-Bolstad   \n",
              "1403                       The Story of Salt         LisaOwings   \n",
              "1404                       The Story of Milk  StacyTaus-Bolstad   \n",
              "1408                   The Story of an Apple  StacyTaus-Bolstad   \n",
              "1409                      We Like the Summer        KatiePeters   \n",
              "...                                      ...                ...   \n",
              "87171  第二十五話サン・ミシェルのいいカフェ：ぼくの旅の手帖〜または珈琲のある風景               森本哲郎   \n",
              "87175         第九話オラン最後の夕べ：ぼくの旅の手帖〜または珈琲のある風景               森本哲郎   \n",
              "87176        第一話リューベックの追憶:ぼくの旅の手帖〜または珈琲のある風景               森本哲郎   \n",
              "87180         第七話バグダードの茶屋:ぼくの旅の手帖〜または珈琲のある風景               森本哲郎   \n",
              "87192        第十八話バンコックの憂鬱：ぼくの旅の手帖〜または珈琲のある風景               森本哲郎   \n",
              "\n",
              "                    narrator                time releasedate  language  \\\n",
              "1401   BookBuddyDigitalMedia  Less than 1 minute  2021-01-01   English   \n",
              "1403   BookBuddyDigitalMedia  Less than 1 minute  2021-01-01   English   \n",
              "1404   BookBuddyDigitalMedia  Less than 1 minute  2021-01-01   English   \n",
              "1408   BookBuddyDigitalMedia  Less than 1 minute  2021-01-01   English   \n",
              "1409   BookBuddyDigitalMedia  Less than 1 minute  2021-01-01   English   \n",
              "...                      ...                 ...         ...       ...   \n",
              "87171                  小野田英一  Less than 1 minute  2015-11-20  japanese   \n",
              "87175                  小野田英一  Less than 1 minute  2015-11-19  japanese   \n",
              "87176                  小野田英一  Less than 1 minute  2015-07-23  japanese   \n",
              "87180                  小野田英一  Less than 1 minute  2015-07-13  japanese   \n",
              "87192                  小野田英一  Less than 1 minute  2015-11-19  japanese   \n",
              "\n",
              "               stars  price no_stars  no_ratings  \n",
              "1401   Not rated yet  164.0      0.0         NaN  \n",
              "1403   Not rated yet  164.0      0.0         NaN  \n",
              "1404   Not rated yet  164.0      0.0         NaN  \n",
              "1408   Not rated yet  164.0      0.0         NaN  \n",
              "1409   Not rated yet  164.0      0.0         NaN  \n",
              "...              ...    ...      ...         ...  \n",
              "87171  Not rated yet  139.0      0.0         NaN  \n",
              "87175  Not rated yet  139.0      0.0         NaN  \n",
              "87176  Not rated yet  139.0      0.0         NaN  \n",
              "87180  Not rated yet  139.0      0.0         NaN  \n",
              "87192  Not rated yet  139.0      0.0         NaN  \n",
              "\n",
              "[61 rows x 10 columns]"
            ],
            "text/html": [
              "\n",
              "  <div id=\"df-4f0ab9ac-5794-43e0-b414-47d4b685ea72\" class=\"colab-df-container\">\n",
              "    <div>\n",
              "<style scoped>\n",
              "    .dataframe tbody tr th:only-of-type {\n",
              "        vertical-align: middle;\n",
              "    }\n",
              "\n",
              "    .dataframe tbody tr th {\n",
              "        vertical-align: top;\n",
              "    }\n",
              "\n",
              "    .dataframe thead th {\n",
              "        text-align: right;\n",
              "    }\n",
              "</style>\n",
              "<table border=\"1\" class=\"dataframe\">\n",
              "  <thead>\n",
              "    <tr style=\"text-align: right;\">\n",
              "      <th></th>\n",
              "      <th>name</th>\n",
              "      <th>author</th>\n",
              "      <th>narrator</th>\n",
              "      <th>time</th>\n",
              "      <th>releasedate</th>\n",
              "      <th>language</th>\n",
              "      <th>stars</th>\n",
              "      <th>price</th>\n",
              "      <th>no_stars</th>\n",
              "      <th>no_ratings</th>\n",
              "    </tr>\n",
              "  </thead>\n",
              "  <tbody>\n",
              "    <tr>\n",
              "      <th>1401</th>\n",
              "      <td>The Story of Ice Cream</td>\n",
              "      <td>StacyTaus-Bolstad</td>\n",
              "      <td>BookBuddyDigitalMedia</td>\n",
              "      <td>Less than 1 minute</td>\n",
              "      <td>2021-01-01</td>\n",
              "      <td>English</td>\n",
              "      <td>Not rated yet</td>\n",
              "      <td>164.0</td>\n",
              "      <td>0.0</td>\n",
              "      <td>NaN</td>\n",
              "    </tr>\n",
              "    <tr>\n",
              "      <th>1403</th>\n",
              "      <td>The Story of Salt</td>\n",
              "      <td>LisaOwings</td>\n",
              "      <td>BookBuddyDigitalMedia</td>\n",
              "      <td>Less than 1 minute</td>\n",
              "      <td>2021-01-01</td>\n",
              "      <td>English</td>\n",
              "      <td>Not rated yet</td>\n",
              "      <td>164.0</td>\n",
              "      <td>0.0</td>\n",
              "      <td>NaN</td>\n",
              "    </tr>\n",
              "    <tr>\n",
              "      <th>1404</th>\n",
              "      <td>The Story of Milk</td>\n",
              "      <td>StacyTaus-Bolstad</td>\n",
              "      <td>BookBuddyDigitalMedia</td>\n",
              "      <td>Less than 1 minute</td>\n",
              "      <td>2021-01-01</td>\n",
              "      <td>English</td>\n",
              "      <td>Not rated yet</td>\n",
              "      <td>164.0</td>\n",
              "      <td>0.0</td>\n",
              "      <td>NaN</td>\n",
              "    </tr>\n",
              "    <tr>\n",
              "      <th>1408</th>\n",
              "      <td>The Story of an Apple</td>\n",
              "      <td>StacyTaus-Bolstad</td>\n",
              "      <td>BookBuddyDigitalMedia</td>\n",
              "      <td>Less than 1 minute</td>\n",
              "      <td>2021-01-01</td>\n",
              "      <td>English</td>\n",
              "      <td>Not rated yet</td>\n",
              "      <td>164.0</td>\n",
              "      <td>0.0</td>\n",
              "      <td>NaN</td>\n",
              "    </tr>\n",
              "    <tr>\n",
              "      <th>1409</th>\n",
              "      <td>We Like the Summer</td>\n",
              "      <td>KatiePeters</td>\n",
              "      <td>BookBuddyDigitalMedia</td>\n",
              "      <td>Less than 1 minute</td>\n",
              "      <td>2021-01-01</td>\n",
              "      <td>English</td>\n",
              "      <td>Not rated yet</td>\n",
              "      <td>164.0</td>\n",
              "      <td>0.0</td>\n",
              "      <td>NaN</td>\n",
              "    </tr>\n",
              "    <tr>\n",
              "      <th>...</th>\n",
              "      <td>...</td>\n",
              "      <td>...</td>\n",
              "      <td>...</td>\n",
              "      <td>...</td>\n",
              "      <td>...</td>\n",
              "      <td>...</td>\n",
              "      <td>...</td>\n",
              "      <td>...</td>\n",
              "      <td>...</td>\n",
              "      <td>...</td>\n",
              "    </tr>\n",
              "    <tr>\n",
              "      <th>87171</th>\n",
              "      <td>第二十五話サン・ミシェルのいいカフェ：ぼくの旅の手帖〜または珈琲のある風景</td>\n",
              "      <td>森本哲郎</td>\n",
              "      <td>小野田英一</td>\n",
              "      <td>Less than 1 minute</td>\n",
              "      <td>2015-11-20</td>\n",
              "      <td>japanese</td>\n",
              "      <td>Not rated yet</td>\n",
              "      <td>139.0</td>\n",
              "      <td>0.0</td>\n",
              "      <td>NaN</td>\n",
              "    </tr>\n",
              "    <tr>\n",
              "      <th>87175</th>\n",
              "      <td>第九話オラン最後の夕べ：ぼくの旅の手帖〜または珈琲のある風景</td>\n",
              "      <td>森本哲郎</td>\n",
              "      <td>小野田英一</td>\n",
              "      <td>Less than 1 minute</td>\n",
              "      <td>2015-11-19</td>\n",
              "      <td>japanese</td>\n",
              "      <td>Not rated yet</td>\n",
              "      <td>139.0</td>\n",
              "      <td>0.0</td>\n",
              "      <td>NaN</td>\n",
              "    </tr>\n",
              "    <tr>\n",
              "      <th>87176</th>\n",
              "      <td>第一話リューベックの追憶:ぼくの旅の手帖〜または珈琲のある風景</td>\n",
              "      <td>森本哲郎</td>\n",
              "      <td>小野田英一</td>\n",
              "      <td>Less than 1 minute</td>\n",
              "      <td>2015-07-23</td>\n",
              "      <td>japanese</td>\n",
              "      <td>Not rated yet</td>\n",
              "      <td>139.0</td>\n",
              "      <td>0.0</td>\n",
              "      <td>NaN</td>\n",
              "    </tr>\n",
              "    <tr>\n",
              "      <th>87180</th>\n",
              "      <td>第七話バグダードの茶屋:ぼくの旅の手帖〜または珈琲のある風景</td>\n",
              "      <td>森本哲郎</td>\n",
              "      <td>小野田英一</td>\n",
              "      <td>Less than 1 minute</td>\n",
              "      <td>2015-07-13</td>\n",
              "      <td>japanese</td>\n",
              "      <td>Not rated yet</td>\n",
              "      <td>139.0</td>\n",
              "      <td>0.0</td>\n",
              "      <td>NaN</td>\n",
              "    </tr>\n",
              "    <tr>\n",
              "      <th>87192</th>\n",
              "      <td>第十八話バンコックの憂鬱：ぼくの旅の手帖〜または珈琲のある風景</td>\n",
              "      <td>森本哲郎</td>\n",
              "      <td>小野田英一</td>\n",
              "      <td>Less than 1 minute</td>\n",
              "      <td>2015-11-19</td>\n",
              "      <td>japanese</td>\n",
              "      <td>Not rated yet</td>\n",
              "      <td>139.0</td>\n",
              "      <td>0.0</td>\n",
              "      <td>NaN</td>\n",
              "    </tr>\n",
              "  </tbody>\n",
              "</table>\n",
              "<p>61 rows × 10 columns</p>\n",
              "</div>\n",
              "    <div class=\"colab-df-buttons\">\n",
              "\n",
              "  <div class=\"colab-df-container\">\n",
              "    <button class=\"colab-df-convert\" onclick=\"convertToInteractive('df-4f0ab9ac-5794-43e0-b414-47d4b685ea72')\"\n",
              "            title=\"Convert this dataframe to an interactive table.\"\n",
              "            style=\"display:none;\">\n",
              "\n",
              "  <svg xmlns=\"http://www.w3.org/2000/svg\" height=\"24px\" viewBox=\"0 -960 960 960\">\n",
              "    <path d=\"M120-120v-720h720v720H120Zm60-500h600v-160H180v160Zm220 220h160v-160H400v160Zm0 220h160v-160H400v160ZM180-400h160v-160H180v160Zm440 0h160v-160H620v160ZM180-180h160v-160H180v160Zm440 0h160v-160H620v160Z\"/>\n",
              "  </svg>\n",
              "    </button>\n",
              "\n",
              "  <style>\n",
              "    .colab-df-container {\n",
              "      display:flex;\n",
              "      gap: 12px;\n",
              "    }\n",
              "\n",
              "    .colab-df-convert {\n",
              "      background-color: #E8F0FE;\n",
              "      border: none;\n",
              "      border-radius: 50%;\n",
              "      cursor: pointer;\n",
              "      display: none;\n",
              "      fill: #1967D2;\n",
              "      height: 32px;\n",
              "      padding: 0 0 0 0;\n",
              "      width: 32px;\n",
              "    }\n",
              "\n",
              "    .colab-df-convert:hover {\n",
              "      background-color: #E2EBFA;\n",
              "      box-shadow: 0px 1px 2px rgba(60, 64, 67, 0.3), 0px 1px 3px 1px rgba(60, 64, 67, 0.15);\n",
              "      fill: #174EA6;\n",
              "    }\n",
              "\n",
              "    .colab-df-buttons div {\n",
              "      margin-bottom: 4px;\n",
              "    }\n",
              "\n",
              "    [theme=dark] .colab-df-convert {\n",
              "      background-color: #3B4455;\n",
              "      fill: #D2E3FC;\n",
              "    }\n",
              "\n",
              "    [theme=dark] .colab-df-convert:hover {\n",
              "      background-color: #434B5C;\n",
              "      box-shadow: 0px 1px 3px 1px rgba(0, 0, 0, 0.15);\n",
              "      filter: drop-shadow(0px 1px 2px rgba(0, 0, 0, 0.3));\n",
              "      fill: #FFFFFF;\n",
              "    }\n",
              "  </style>\n",
              "\n",
              "    <script>\n",
              "      const buttonEl =\n",
              "        document.querySelector('#df-4f0ab9ac-5794-43e0-b414-47d4b685ea72 button.colab-df-convert');\n",
              "      buttonEl.style.display =\n",
              "        google.colab.kernel.accessAllowed ? 'block' : 'none';\n",
              "\n",
              "      async function convertToInteractive(key) {\n",
              "        const element = document.querySelector('#df-4f0ab9ac-5794-43e0-b414-47d4b685ea72');\n",
              "        const dataTable =\n",
              "          await google.colab.kernel.invokeFunction('convertToInteractive',\n",
              "                                                    [key], {});\n",
              "        if (!dataTable) return;\n",
              "\n",
              "        const docLinkHtml = 'Like what you see? Visit the ' +\n",
              "          '<a target=\"_blank\" href=https://colab.research.google.com/notebooks/data_table.ipynb>data table notebook</a>'\n",
              "          + ' to learn more about interactive tables.';\n",
              "        element.innerHTML = '';\n",
              "        dataTable['output_type'] = 'display_data';\n",
              "        await google.colab.output.renderOutput(dataTable, element);\n",
              "        const docLink = document.createElement('div');\n",
              "        docLink.innerHTML = docLinkHtml;\n",
              "        element.appendChild(docLink);\n",
              "      }\n",
              "    </script>\n",
              "  </div>\n",
              "\n",
              "\n",
              "<div id=\"df-fcb07a20-c4c1-4086-b76e-164076d2bb89\">\n",
              "  <button class=\"colab-df-quickchart\" onclick=\"quickchart('df-fcb07a20-c4c1-4086-b76e-164076d2bb89')\"\n",
              "            title=\"Suggest charts.\"\n",
              "            style=\"display:none;\">\n",
              "\n",
              "<svg xmlns=\"http://www.w3.org/2000/svg\" height=\"24px\"viewBox=\"0 0 24 24\"\n",
              "     width=\"24px\">\n",
              "    <g>\n",
              "        <path d=\"M19 3H5c-1.1 0-2 .9-2 2v14c0 1.1.9 2 2 2h14c1.1 0 2-.9 2-2V5c0-1.1-.9-2-2-2zM9 17H7v-7h2v7zm4 0h-2V7h2v10zm4 0h-2v-4h2v4z\"/>\n",
              "    </g>\n",
              "</svg>\n",
              "  </button>\n",
              "\n",
              "<style>\n",
              "  .colab-df-quickchart {\n",
              "    background-color: #E8F0FE;\n",
              "    border: none;\n",
              "    border-radius: 50%;\n",
              "    cursor: pointer;\n",
              "    display: none;\n",
              "    fill: #1967D2;\n",
              "    height: 32px;\n",
              "    padding: 0 0 0 0;\n",
              "    width: 32px;\n",
              "  }\n",
              "\n",
              "  .colab-df-quickchart:hover {\n",
              "    background-color: #E2EBFA;\n",
              "    box-shadow: 0px 1px 2px rgba(60, 64, 67, 0.3), 0px 1px 3px 1px rgba(60, 64, 67, 0.15);\n",
              "    fill: #174EA6;\n",
              "  }\n",
              "\n",
              "  [theme=dark] .colab-df-quickchart {\n",
              "    background-color: #3B4455;\n",
              "    fill: #D2E3FC;\n",
              "  }\n",
              "\n",
              "  [theme=dark] .colab-df-quickchart:hover {\n",
              "    background-color: #434B5C;\n",
              "    box-shadow: 0px 1px 3px 1px rgba(0, 0, 0, 0.15);\n",
              "    filter: drop-shadow(0px 1px 2px rgba(0, 0, 0, 0.3));\n",
              "    fill: #FFFFFF;\n",
              "  }\n",
              "</style>\n",
              "\n",
              "  <script>\n",
              "    async function quickchart(key) {\n",
              "      const charts = await google.colab.kernel.invokeFunction(\n",
              "          'suggestCharts', [key], {});\n",
              "    }\n",
              "    (() => {\n",
              "      let quickchartButtonEl =\n",
              "        document.querySelector('#df-fcb07a20-c4c1-4086-b76e-164076d2bb89 button');\n",
              "      quickchartButtonEl.style.display =\n",
              "        google.colab.kernel.accessAllowed ? 'block' : 'none';\n",
              "    })();\n",
              "  </script>\n",
              "</div>\n",
              "    </div>\n",
              "  </div>\n"
            ]
          },
          "metadata": {},
          "execution_count": 64
        }
      ]
    },
    {
      "cell_type": "code",
      "source": [
        "df[\"time\"] = df[\"time\"].str.replace(\"hrs\", \"hr\").str.replace(\"mins\", \"min\").str.replace(\"Less than 1 minute\",\"1 min\")\n"
      ],
      "metadata": {
        "id": "-2gYJ6QregiO"
      },
      "execution_count": 65,
      "outputs": []
    },
    {
      "cell_type": "code",
      "source": [
        "df[\"time\"]"
      ],
      "metadata": {
        "colab": {
          "base_uri": "https://localhost:8080/"
        },
        "id": "AG5A7oKdgjXz",
        "outputId": "c5b69bbe-e2bc-4dc2-e217-99a82962700e"
      },
      "execution_count": 66,
      "outputs": [
        {
          "output_type": "execute_result",
          "data": {
            "text/plain": [
              "0         2 hr and 20 min\n",
              "1         13 hr and 8 min\n",
              "2          2 hr and 3 min\n",
              "3        11 hr and 16 min\n",
              "4                   10 hr\n",
              "               ...       \n",
              "87484     7 hr and 34 min\n",
              "87485     10 hr and 7 min\n",
              "87486     19 hr and 4 min\n",
              "87487      4 hr and 8 min\n",
              "87488      6 hr and 1 min\n",
              "Name: time, Length: 87489, dtype: object"
            ]
          },
          "metadata": {},
          "execution_count": 66
        }
      ]
    },
    {
      "cell_type": "markdown",
      "source": [
        "alternative way to use replace\n",
        "> df[\"time\"] = df[\"time\"].replace({\n",
        "    \"hrs\": \"hr\",\n",
        "    \"mins\": \"min\",\n",
        "    \"Less than 1 minute\": \"1 min\"\n",
        "})\n"
      ],
      "metadata": {
        "id": "wnM9P9_bjJu_"
      }
    },
    {
      "cell_type": "code",
      "source": [
        "df[\"hours\"]=df['time'].str.extract(\"(\\d+) hr\")"
      ],
      "metadata": {
        "id": "gGId_KzQg7mM"
      },
      "execution_count": 67,
      "outputs": []
    },
    {
      "cell_type": "code",
      "source": [
        "df['hours'].sample(5)"
      ],
      "metadata": {
        "colab": {
          "base_uri": "https://localhost:8080/"
        },
        "id": "O_OLWp7ih-hk",
        "outputId": "5bb4965f-9105-4e85-d329-1bd01cc9a081"
      },
      "execution_count": 68,
      "outputs": [
        {
          "output_type": "execute_result",
          "data": {
            "text/plain": [
              "72131    8\n",
              "11863    6\n",
              "67899    1\n",
              "49168    3\n",
              "8459     1\n",
              "Name: hours, dtype: object"
            ]
          },
          "metadata": {},
          "execution_count": 68
        }
      ]
    },
    {
      "cell_type": "code",
      "source": [
        "df[\"mins\"]=df['time'].str.extract(\"(\\d+) min\")"
      ],
      "metadata": {
        "id": "QbyrTZmxkhKw"
      },
      "execution_count": 69,
      "outputs": []
    },
    {
      "cell_type": "code",
      "source": [
        "df[\"mins\"].sample(5)"
      ],
      "metadata": {
        "colab": {
          "base_uri": "https://localhost:8080/"
        },
        "id": "z_NWTcLIkzy6",
        "outputId": "88f88f7f-5d84-4e5e-87dd-6a6b915aff9a"
      },
      "execution_count": 70,
      "outputs": [
        {
          "output_type": "execute_result",
          "data": {
            "text/plain": [
              "81216    NaN\n",
              "12562     46\n",
              "16297     18\n",
              "30003     11\n",
              "54967     38\n",
              "Name: mins, dtype: object"
            ]
          },
          "metadata": {},
          "execution_count": 70
        }
      ]
    },
    {
      "cell_type": "code",
      "source": [],
      "metadata": {
        "id": "K8oVjpdQo13J"
      },
      "execution_count": 70,
      "outputs": []
    },
    {
      "cell_type": "code",
      "source": [
        "df[\"hours\"]=df[\"hours\"].astype(float)"
      ],
      "metadata": {
        "id": "7bnQs3E5nEUP"
      },
      "execution_count": 71,
      "outputs": []
    },
    {
      "cell_type": "code",
      "source": [
        "df[\"mins\"]=df[\"mins\"].astype(float)"
      ],
      "metadata": {
        "id": "o9eKQ9wFnKzv"
      },
      "execution_count": 72,
      "outputs": []
    },
    {
      "cell_type": "code",
      "source": [
        "df[\"total_mins\"]=df[\"hours\"]*60+df[\"mins\"]"
      ],
      "metadata": {
        "id": "BIkSfYjJod4n"
      },
      "execution_count": 73,
      "outputs": []
    },
    {
      "cell_type": "code",
      "source": [
        "df[\"total_mins\"].sample(5)"
      ],
      "metadata": {
        "colab": {
          "base_uri": "https://localhost:8080/"
        },
        "id": "KzI-jba2osJg",
        "outputId": "aad1e16b-32a0-46af-c54c-0f6858edd334"
      },
      "execution_count": 74,
      "outputs": [
        {
          "output_type": "execute_result",
          "data": {
            "text/plain": [
              "16706    1738.0\n",
              "3692      183.0\n",
              "70746     582.0\n",
              "34160     204.0\n",
              "83140     429.0\n",
              "Name: total_mins, dtype: float64"
            ]
          },
          "metadata": {},
          "execution_count": 74
        }
      ]
    },
    {
      "cell_type": "code",
      "source": [
        "df[\"total_mins\"]=df[\"total_mins\"].fillna(0).astype(int)"
      ],
      "metadata": {
        "id": "o1R9xhgYov5j"
      },
      "execution_count": 75,
      "outputs": []
    },
    {
      "cell_type": "markdown",
      "source": [
        "drop the columns that are not needed"
      ],
      "metadata": {
        "id": "IPz6lprKpb9R"
      }
    },
    {
      "cell_type": "code",
      "source": [
        "df.drop(columns=[\"time\"],axis=1,inplace=True)"
      ],
      "metadata": {
        "id": "sTZDjZtGpD_2"
      },
      "execution_count": 76,
      "outputs": []
    },
    {
      "cell_type": "markdown",
      "source": [
        "checking for duplicates"
      ],
      "metadata": {
        "id": "ksfyj_iHiuAv"
      }
    },
    {
      "cell_type": "code",
      "source": [
        "df.duplicated().value_counts()"
      ],
      "metadata": {
        "id": "2Cqkw-pcpr5q",
        "colab": {
          "base_uri": "https://localhost:8080/"
        },
        "outputId": "57e3df79-2d78-4dad-c143-8ea51e08a8d2"
      },
      "execution_count": 77,
      "outputs": [
        {
          "output_type": "execute_result",
          "data": {
            "text/plain": [
              "False    87489\n",
              "dtype: int64"
            ]
          },
          "metadata": {},
          "execution_count": 77
        }
      ]
    },
    {
      "cell_type": "markdown",
      "source": [
        "dealing with missing data"
      ],
      "metadata": {
        "id": "UuQMhMOTj-FG"
      }
    },
    {
      "cell_type": "markdown",
      "source": [
        "Column no of stars and no of ratings have more null values than other columns.It is not necessary to remove all null values as we can use these rows can be useful in visualizing the profit distribution.\n",
        "\n",
        "\n",
        "> Thus filling nan values to 0\n",
        "\n"
      ],
      "metadata": {
        "id": "OcY66IMJkegV"
      }
    },
    {
      "cell_type": "code",
      "source": [
        "df[[\"no_ratings\",\"hours\",\"mins\"]]=df[[\"no_ratings\",\"hours\",\"mins\"]].fillna(0)"
      ],
      "metadata": {
        "id": "Igq5Wn9okc9C"
      },
      "execution_count": 79,
      "outputs": []
    },
    {
      "cell_type": "code",
      "source": [
        "df.isna().sum()"
      ],
      "metadata": {
        "colab": {
          "base_uri": "https://localhost:8080/"
        },
        "id": "iySbnydZjDb6",
        "outputId": "06fd2b88-9453-41ab-a80f-8eb6e9ec6914"
      },
      "execution_count": 81,
      "outputs": [
        {
          "output_type": "execute_result",
          "data": {
            "text/plain": [
              "name           0\n",
              "author         0\n",
              "narrator       0\n",
              "releasedate    0\n",
              "language       0\n",
              "stars          0\n",
              "price          0\n",
              "no_stars       0\n",
              "no_ratings     0\n",
              "hours          0\n",
              "mins           0\n",
              "total_mins     0\n",
              "dtype: int64"
            ]
          },
          "metadata": {},
          "execution_count": 81
        }
      ]
    },
    {
      "cell_type": "code",
      "source": [],
      "metadata": {
        "id": "18iVpFkxna-p"
      },
      "execution_count": 80,
      "outputs": []
    }
  ]
}